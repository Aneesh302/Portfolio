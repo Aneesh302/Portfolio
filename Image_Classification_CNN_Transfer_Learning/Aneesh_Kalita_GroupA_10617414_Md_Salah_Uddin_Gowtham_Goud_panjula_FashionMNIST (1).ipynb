{
  "cells": [
    {
      "cell_type": "markdown",
      "source": [
        "\n",
        "Module Title: Machine Learning\n",
        "\n",
        "Machine Learning [ B9DA109] for Continuous Assessment 2 Task 2\n",
        "\n",
        "Group Members:\n",
        "\n",
        "Name: Md Salah Uddin (10621659)\n",
        "\n",
        "Name: Gowtham Goud Panjula (10620870)\n",
        "\n",
        "Name: Aneesh Kalita (10617414)\n",
        "\n",
        "Course Title: Machine Learning\n",
        "\n",
        "Lecturer Name: Satya Prakash\n",
        "\n",
        "Module/Subject Title: B9DA109 Machine Learning and Pattern Recognition (B9DA109_2223_TMD1S)\n",
        "\n",
        "Assignment Title: Machine Learning Tasks FASHION MNIST"
      ],
      "metadata": {
        "id": "pSn9Hhx-lkd2"
      }
    },
    {
      "cell_type": "markdown",
      "source": [
        "# Assignment on Deep Neural Networks using Convolutional networks and Transfer Learning using a Pretrainded Model Part 1 -**CONVOLUTIONAL NETWORKS**\n",
        "\n",
        "### The kaggle.json file has been provided in the zip assignment folder. kindly upload the file when prompted  to run the project"
      ],
      "metadata": {
        "id": "Ze8wx2akVLUP"
      }
    },
    {
      "cell_type": "code",
      "execution_count": null,
      "metadata": {
        "id": "45ij0Yh6cgJh"
      },
      "outputs": [],
      "source": [
        "# The required packages and libraries for implementation of this project are imported\n",
        "\n",
        "import numpy as np\n",
        "import pandas as pd\n",
        "import os\n",
        "import PIL\n",
        "\n",
        "#Accuracy measurement\n",
        "from sklearn.metrics import confusion_matrix\n",
        "from sklearn.utils import shuffle\n",
        "\n",
        "\n",
        "#Visualaization\n",
        "import seaborn as sns\n",
        "import matplotlib.pyplot as plt\n",
        "\n",
        "\n",
        "#Model Module\n",
        "import tensorflow as tf\n",
        "from tensorflow import keras\n",
        "from tensorflow.keras import layers\n",
        "from tensorflow.keras.preprocessing.image import ImageDataGenerator\n",
        "from tensorflow.keras.layers import Dense, Conv2D, MaxPooling2D, Dropout, Activation, Flatten\n",
        "from tensorflow.keras import backend as bk\n",
        "\n",
        "from tensorflow.keras.optimizers import SGD, Adam, RMSprop, Adagrad, Adamax\n",
        "from tensorflow.keras.models import Sequential\n",
        "\n",
        "from sklearn.model_selection import train_test_split as tts\n",
        "\n",
        "\n",
        "\n",
        "from tqdm import tqdm\n",
        "import cv2\n",
        "\n",
        "import pathlib\n",
        "\n",
        "import PIL\n",
        "import PIL.Image\n"
      ]
    },
    {
      "cell_type": "markdown",
      "source": [
        "#### A dictionary containing the target class labels as keys and the name of cloth or footwear as values is created for reference"
      ],
      "metadata": {
        "id": "1xaWH7-VVtxK"
      }
    },
    {
      "cell_type": "code",
      "execution_count": null,
      "metadata": {
        "id": "1MhxDioySZ4k"
      },
      "outputs": [],
      "source": [
        "num_list=np.arange(0,10,1,dtype='int')                                     # A numpy array consisting of 10 integers ; 0-9\n",
        "\n",
        "classNames = [\"T-shirt/top\", \"Trouser\", \"Pullover\", \"Dress\", \"Coat\", \"Sandal\", \"Shirt\", \"Sneaker\", \"Bag\", \"Ankle boot\"]    # A list is created containing cloth names\n",
        "\n",
        "classNameslabels={}                                                        # An empty dict is created\n",
        "for index,value in enumerate(num_list):                                    # A for loop is generated and if the index count value of loop is less than 10,\n",
        "  if index <10:                                                            # the classsname dictionary is updated with respective cloth names\n",
        "      classNameslabels.update({value: classNames[index]})"
      ]
    },
    {
      "cell_type": "code",
      "execution_count": null,
      "metadata": {
        "colab": {
          "base_uri": "https://localhost:8080/"
        },
        "id": "zYGbfRNjTlSy",
        "outputId": "cc61b671-d030-48af-a1b9-5f7fb406139a"
      },
      "outputs": [
        {
          "output_type": "stream",
          "name": "stdout",
          "text": [
            "{0: 'T-shirt/top', 1: 'Trouser', 2: 'Pullover', 3: 'Dress', 4: 'Coat', 5: 'Sandal', 6: 'Shirt', 7: 'Sneaker', 8: 'Bag', 9: 'Ankle boot'}\n"
          ]
        }
      ],
      "source": [
        "print(classNameslabels)"
      ]
    },
    {
      "cell_type": "code",
      "execution_count": null,
      "metadata": {
        "colab": {
          "base_uri": "https://localhost:8080/"
        },
        "id": "LUBffghlc8R0",
        "outputId": "b651dc31-a9f0-4f9b-af08-0c6f6251b087"
      },
      "outputs": [
        {
          "output_type": "execute_result",
          "data": {
            "text/plain": [
              "10"
            ]
          },
          "metadata": {},
          "execution_count": 4
        }
      ],
      "source": [
        "len(classNameslabels)"
      ]
    },
    {
      "cell_type": "code",
      "execution_count": null,
      "metadata": {
        "id": "vRYhuG1FDah7"
      },
      "outputs": [],
      "source": [
        "! pip install -q kaggle                       # Kaggle package is installed to import training and test data"
      ]
    },
    {
      "cell_type": "markdown",
      "source": [
        "### Kaggle json File has been provided to zip. Kindly upload the json file to run the code"
      ],
      "metadata": {
        "id": "5EaKMMI0jSdk"
      }
    },
    {
      "cell_type": "code",
      "source": [
        "from google.colab import files\n",
        "\n",
        "files.upload()"
      ],
      "metadata": {
        "id": "eRmKO9Z6jQyb"
      },
      "execution_count": null,
      "outputs": []
    },
    {
      "cell_type": "code",
      "execution_count": null,
      "metadata": {
        "id": "n0kcStVY_LKR"
      },
      "outputs": [],
      "source": [
        "!mkdir ~/.kaggle                    \n",
        "!touch ~/.kaggle/kaggle.json\n",
        "\n",
        "api_token = {\"username\":\"aneeshkalita\",\"key\":\"2c91f43115955cd4f257d63d039d6856\"}\n",
        "\n",
        "import json\n",
        "\n",
        "with open('/root/.kaggle/kaggle.json', 'w') as file:\n",
        "    json.dump(api_token, file) \n",
        "\n",
        "!chmod 600 ~/.kaggle/kaggle.json\n"
      ]
    },
    {
      "cell_type": "code",
      "source": [
        "!kaggle datasets download -d zalando-research/fashionmnist\n",
        "! unzip fashionmnist.zip -dfashionmnist"
      ],
      "metadata": {
        "colab": {
          "base_uri": "https://localhost:8080/"
        },
        "id": "V5zceptGve3M",
        "outputId": "5629d12d-5c26-4671-fa6c-e626404c425e"
      },
      "execution_count": null,
      "outputs": [
        {
          "output_type": "stream",
          "name": "stdout",
          "text": [
            "fashionmnist.zip: Skipping, found more recently modified local copy (use --force to force download)\n",
            "Archive:  fashionmnist.zip\n",
            "replace fashionmnist/fashion-mnist_test.csv? [y]es, [n]o, [A]ll, [N]one, [r]ename: n\n",
            "replace fashionmnist/fashion-mnist_train.csv? [y]es, [n]o, [A]ll, [N]one, [r]ename: n\n",
            "replace fashionmnist/t10k-images-idx3-ubyte? [y]es, [n]o, [A]ll, [N]one, [r]ename: n\n",
            "replace fashionmnist/t10k-labels-idx1-ubyte? [y]es, [n]o, [A]ll, [N]one, [r]ename: n\n",
            "replace fashionmnist/train-images-idx3-ubyte? [y]es, [n]o, [A]ll, [N]one, [r]ename: n\n",
            "replace fashionmnist/train-labels-idx1-ubyte? [y]es, [n]o, [A]ll, [N]one, [r]ename: n\n"
          ]
        }
      ]
    },
    {
      "cell_type": "code",
      "source": [
        "df_train=pd.read_csv('/content/fashionmnist/fashion-mnist_train.csv')                          # A pandas dataframe is created for train data"
      ],
      "metadata": {
        "id": "ulx7FJhEd7Od"
      },
      "execution_count": null,
      "outputs": []
    },
    {
      "cell_type": "code",
      "source": [
        "df_test=pd.read_csv('/content/fashionmnist/fashion-mnist_test.csv')                            # A pandas dataframe is created for test data"
      ],
      "metadata": {
        "id": "gwLUCOFJd8K3"
      },
      "execution_count": null,
      "outputs": []
    },
    {
      "cell_type": "markdown",
      "source": [
        "We can see the data is of greyscale images with shape (28 * 28 * 1=784) containing 784 pixel values and 1 label column (=785 total columns). There are 60000 images(number of rows). Each pixel is stored as an integer of value 0 to 255 indicating the brightness of that pixel. 0 represents white and gradually progresses to 255 (black)."
      ],
      "metadata": {
        "id": "Lbf6x26lkUhj"
      }
    },
    {
      "cell_type": "code",
      "source": [
        "df_train.head(10)"
      ],
      "metadata": {
        "colab": {
          "base_uri": "https://localhost:8080/",
          "height": 392
        },
        "id": "H5Z9rq_LeA0_",
        "outputId": "d57a6fc3-1e7a-4dc2-8306-07620af7d1cf"
      },
      "execution_count": null,
      "outputs": [
        {
          "output_type": "execute_result",
          "data": {
            "text/plain": [
              "   label  pixel1  pixel2  pixel3  pixel4  pixel5  pixel6  pixel7  pixel8  \\\n",
              "0      2       0       0       0       0       0       0       0       0   \n",
              "1      9       0       0       0       0       0       0       0       0   \n",
              "2      6       0       0       0       0       0       0       0       5   \n",
              "3      0       0       0       0       1       2       0       0       0   \n",
              "4      3       0       0       0       0       0       0       0       0   \n",
              "5      4       0       0       0       5       4       5       5       3   \n",
              "6      4       0       0       0       0       0       0       0       0   \n",
              "7      5       0       0       0       0       0       0       0       0   \n",
              "8      4       0       0       0       0       0       0       3       2   \n",
              "9      8       0       0       0       0       0       0       0       0   \n",
              "\n",
              "   pixel9  ...  pixel775  pixel776  pixel777  pixel778  pixel779  pixel780  \\\n",
              "0       0  ...         0         0         0         0         0         0   \n",
              "1       0  ...         0         0         0         0         0         0   \n",
              "2       0  ...         0         0         0        30        43         0   \n",
              "3       0  ...         3         0         0         0         0         1   \n",
              "4       0  ...         0         0         0         0         0         0   \n",
              "5       5  ...         7         8         7         4         3         7   \n",
              "6       0  ...        14         0         0         0         0         0   \n",
              "7       0  ...         0         0         0         0         0         0   \n",
              "8       0  ...         1         0         0         0         0         0   \n",
              "9       0  ...       203       214       166         0         0         0   \n",
              "\n",
              "   pixel781  pixel782  pixel783  pixel784  \n",
              "0         0         0         0         0  \n",
              "1         0         0         0         0  \n",
              "2         0         0         0         0  \n",
              "3         0         0         0         0  \n",
              "4         0         0         0         0  \n",
              "5         5         0         0         0  \n",
              "6         0         0         0         0  \n",
              "7         0         0         0         0  \n",
              "8         0         0         0         0  \n",
              "9         0         0         0         0  \n",
              "\n",
              "[10 rows x 785 columns]"
            ],
            "text/html": [
              "\n",
              "  <div id=\"df-c4174622-55a5-4f4f-80cb-b0a877ace64f\">\n",
              "    <div class=\"colab-df-container\">\n",
              "      <div>\n",
              "<style scoped>\n",
              "    .dataframe tbody tr th:only-of-type {\n",
              "        vertical-align: middle;\n",
              "    }\n",
              "\n",
              "    .dataframe tbody tr th {\n",
              "        vertical-align: top;\n",
              "    }\n",
              "\n",
              "    .dataframe thead th {\n",
              "        text-align: right;\n",
              "    }\n",
              "</style>\n",
              "<table border=\"1\" class=\"dataframe\">\n",
              "  <thead>\n",
              "    <tr style=\"text-align: right;\">\n",
              "      <th></th>\n",
              "      <th>label</th>\n",
              "      <th>pixel1</th>\n",
              "      <th>pixel2</th>\n",
              "      <th>pixel3</th>\n",
              "      <th>pixel4</th>\n",
              "      <th>pixel5</th>\n",
              "      <th>pixel6</th>\n",
              "      <th>pixel7</th>\n",
              "      <th>pixel8</th>\n",
              "      <th>pixel9</th>\n",
              "      <th>...</th>\n",
              "      <th>pixel775</th>\n",
              "      <th>pixel776</th>\n",
              "      <th>pixel777</th>\n",
              "      <th>pixel778</th>\n",
              "      <th>pixel779</th>\n",
              "      <th>pixel780</th>\n",
              "      <th>pixel781</th>\n",
              "      <th>pixel782</th>\n",
              "      <th>pixel783</th>\n",
              "      <th>pixel784</th>\n",
              "    </tr>\n",
              "  </thead>\n",
              "  <tbody>\n",
              "    <tr>\n",
              "      <th>0</th>\n",
              "      <td>2</td>\n",
              "      <td>0</td>\n",
              "      <td>0</td>\n",
              "      <td>0</td>\n",
              "      <td>0</td>\n",
              "      <td>0</td>\n",
              "      <td>0</td>\n",
              "      <td>0</td>\n",
              "      <td>0</td>\n",
              "      <td>0</td>\n",
              "      <td>...</td>\n",
              "      <td>0</td>\n",
              "      <td>0</td>\n",
              "      <td>0</td>\n",
              "      <td>0</td>\n",
              "      <td>0</td>\n",
              "      <td>0</td>\n",
              "      <td>0</td>\n",
              "      <td>0</td>\n",
              "      <td>0</td>\n",
              "      <td>0</td>\n",
              "    </tr>\n",
              "    <tr>\n",
              "      <th>1</th>\n",
              "      <td>9</td>\n",
              "      <td>0</td>\n",
              "      <td>0</td>\n",
              "      <td>0</td>\n",
              "      <td>0</td>\n",
              "      <td>0</td>\n",
              "      <td>0</td>\n",
              "      <td>0</td>\n",
              "      <td>0</td>\n",
              "      <td>0</td>\n",
              "      <td>...</td>\n",
              "      <td>0</td>\n",
              "      <td>0</td>\n",
              "      <td>0</td>\n",
              "      <td>0</td>\n",
              "      <td>0</td>\n",
              "      <td>0</td>\n",
              "      <td>0</td>\n",
              "      <td>0</td>\n",
              "      <td>0</td>\n",
              "      <td>0</td>\n",
              "    </tr>\n",
              "    <tr>\n",
              "      <th>2</th>\n",
              "      <td>6</td>\n",
              "      <td>0</td>\n",
              "      <td>0</td>\n",
              "      <td>0</td>\n",
              "      <td>0</td>\n",
              "      <td>0</td>\n",
              "      <td>0</td>\n",
              "      <td>0</td>\n",
              "      <td>5</td>\n",
              "      <td>0</td>\n",
              "      <td>...</td>\n",
              "      <td>0</td>\n",
              "      <td>0</td>\n",
              "      <td>0</td>\n",
              "      <td>30</td>\n",
              "      <td>43</td>\n",
              "      <td>0</td>\n",
              "      <td>0</td>\n",
              "      <td>0</td>\n",
              "      <td>0</td>\n",
              "      <td>0</td>\n",
              "    </tr>\n",
              "    <tr>\n",
              "      <th>3</th>\n",
              "      <td>0</td>\n",
              "      <td>0</td>\n",
              "      <td>0</td>\n",
              "      <td>0</td>\n",
              "      <td>1</td>\n",
              "      <td>2</td>\n",
              "      <td>0</td>\n",
              "      <td>0</td>\n",
              "      <td>0</td>\n",
              "      <td>0</td>\n",
              "      <td>...</td>\n",
              "      <td>3</td>\n",
              "      <td>0</td>\n",
              "      <td>0</td>\n",
              "      <td>0</td>\n",
              "      <td>0</td>\n",
              "      <td>1</td>\n",
              "      <td>0</td>\n",
              "      <td>0</td>\n",
              "      <td>0</td>\n",
              "      <td>0</td>\n",
              "    </tr>\n",
              "    <tr>\n",
              "      <th>4</th>\n",
              "      <td>3</td>\n",
              "      <td>0</td>\n",
              "      <td>0</td>\n",
              "      <td>0</td>\n",
              "      <td>0</td>\n",
              "      <td>0</td>\n",
              "      <td>0</td>\n",
              "      <td>0</td>\n",
              "      <td>0</td>\n",
              "      <td>0</td>\n",
              "      <td>...</td>\n",
              "      <td>0</td>\n",
              "      <td>0</td>\n",
              "      <td>0</td>\n",
              "      <td>0</td>\n",
              "      <td>0</td>\n",
              "      <td>0</td>\n",
              "      <td>0</td>\n",
              "      <td>0</td>\n",
              "      <td>0</td>\n",
              "      <td>0</td>\n",
              "    </tr>\n",
              "    <tr>\n",
              "      <th>5</th>\n",
              "      <td>4</td>\n",
              "      <td>0</td>\n",
              "      <td>0</td>\n",
              "      <td>0</td>\n",
              "      <td>5</td>\n",
              "      <td>4</td>\n",
              "      <td>5</td>\n",
              "      <td>5</td>\n",
              "      <td>3</td>\n",
              "      <td>5</td>\n",
              "      <td>...</td>\n",
              "      <td>7</td>\n",
              "      <td>8</td>\n",
              "      <td>7</td>\n",
              "      <td>4</td>\n",
              "      <td>3</td>\n",
              "      <td>7</td>\n",
              "      <td>5</td>\n",
              "      <td>0</td>\n",
              "      <td>0</td>\n",
              "      <td>0</td>\n",
              "    </tr>\n",
              "    <tr>\n",
              "      <th>6</th>\n",
              "      <td>4</td>\n",
              "      <td>0</td>\n",
              "      <td>0</td>\n",
              "      <td>0</td>\n",
              "      <td>0</td>\n",
              "      <td>0</td>\n",
              "      <td>0</td>\n",
              "      <td>0</td>\n",
              "      <td>0</td>\n",
              "      <td>0</td>\n",
              "      <td>...</td>\n",
              "      <td>14</td>\n",
              "      <td>0</td>\n",
              "      <td>0</td>\n",
              "      <td>0</td>\n",
              "      <td>0</td>\n",
              "      <td>0</td>\n",
              "      <td>0</td>\n",
              "      <td>0</td>\n",
              "      <td>0</td>\n",
              "      <td>0</td>\n",
              "    </tr>\n",
              "    <tr>\n",
              "      <th>7</th>\n",
              "      <td>5</td>\n",
              "      <td>0</td>\n",
              "      <td>0</td>\n",
              "      <td>0</td>\n",
              "      <td>0</td>\n",
              "      <td>0</td>\n",
              "      <td>0</td>\n",
              "      <td>0</td>\n",
              "      <td>0</td>\n",
              "      <td>0</td>\n",
              "      <td>...</td>\n",
              "      <td>0</td>\n",
              "      <td>0</td>\n",
              "      <td>0</td>\n",
              "      <td>0</td>\n",
              "      <td>0</td>\n",
              "      <td>0</td>\n",
              "      <td>0</td>\n",
              "      <td>0</td>\n",
              "      <td>0</td>\n",
              "      <td>0</td>\n",
              "    </tr>\n",
              "    <tr>\n",
              "      <th>8</th>\n",
              "      <td>4</td>\n",
              "      <td>0</td>\n",
              "      <td>0</td>\n",
              "      <td>0</td>\n",
              "      <td>0</td>\n",
              "      <td>0</td>\n",
              "      <td>0</td>\n",
              "      <td>3</td>\n",
              "      <td>2</td>\n",
              "      <td>0</td>\n",
              "      <td>...</td>\n",
              "      <td>1</td>\n",
              "      <td>0</td>\n",
              "      <td>0</td>\n",
              "      <td>0</td>\n",
              "      <td>0</td>\n",
              "      <td>0</td>\n",
              "      <td>0</td>\n",
              "      <td>0</td>\n",
              "      <td>0</td>\n",
              "      <td>0</td>\n",
              "    </tr>\n",
              "    <tr>\n",
              "      <th>9</th>\n",
              "      <td>8</td>\n",
              "      <td>0</td>\n",
              "      <td>0</td>\n",
              "      <td>0</td>\n",
              "      <td>0</td>\n",
              "      <td>0</td>\n",
              "      <td>0</td>\n",
              "      <td>0</td>\n",
              "      <td>0</td>\n",
              "      <td>0</td>\n",
              "      <td>...</td>\n",
              "      <td>203</td>\n",
              "      <td>214</td>\n",
              "      <td>166</td>\n",
              "      <td>0</td>\n",
              "      <td>0</td>\n",
              "      <td>0</td>\n",
              "      <td>0</td>\n",
              "      <td>0</td>\n",
              "      <td>0</td>\n",
              "      <td>0</td>\n",
              "    </tr>\n",
              "  </tbody>\n",
              "</table>\n",
              "<p>10 rows × 785 columns</p>\n",
              "</div>\n",
              "      <button class=\"colab-df-convert\" onclick=\"convertToInteractive('df-c4174622-55a5-4f4f-80cb-b0a877ace64f')\"\n",
              "              title=\"Convert this dataframe to an interactive table.\"\n",
              "              style=\"display:none;\">\n",
              "        \n",
              "  <svg xmlns=\"http://www.w3.org/2000/svg\" height=\"24px\"viewBox=\"0 0 24 24\"\n",
              "       width=\"24px\">\n",
              "    <path d=\"M0 0h24v24H0V0z\" fill=\"none\"/>\n",
              "    <path d=\"M18.56 5.44l.94 2.06.94-2.06 2.06-.94-2.06-.94-.94-2.06-.94 2.06-2.06.94zm-11 1L8.5 8.5l.94-2.06 2.06-.94-2.06-.94L8.5 2.5l-.94 2.06-2.06.94zm10 10l.94 2.06.94-2.06 2.06-.94-2.06-.94-.94-2.06-.94 2.06-2.06.94z\"/><path d=\"M17.41 7.96l-1.37-1.37c-.4-.4-.92-.59-1.43-.59-.52 0-1.04.2-1.43.59L10.3 9.45l-7.72 7.72c-.78.78-.78 2.05 0 2.83L4 21.41c.39.39.9.59 1.41.59.51 0 1.02-.2 1.41-.59l7.78-7.78 2.81-2.81c.8-.78.8-2.07 0-2.86zM5.41 20L4 18.59l7.72-7.72 1.47 1.35L5.41 20z\"/>\n",
              "  </svg>\n",
              "      </button>\n",
              "      \n",
              "  <style>\n",
              "    .colab-df-container {\n",
              "      display:flex;\n",
              "      flex-wrap:wrap;\n",
              "      gap: 12px;\n",
              "    }\n",
              "\n",
              "    .colab-df-convert {\n",
              "      background-color: #E8F0FE;\n",
              "      border: none;\n",
              "      border-radius: 50%;\n",
              "      cursor: pointer;\n",
              "      display: none;\n",
              "      fill: #1967D2;\n",
              "      height: 32px;\n",
              "      padding: 0 0 0 0;\n",
              "      width: 32px;\n",
              "    }\n",
              "\n",
              "    .colab-df-convert:hover {\n",
              "      background-color: #E2EBFA;\n",
              "      box-shadow: 0px 1px 2px rgba(60, 64, 67, 0.3), 0px 1px 3px 1px rgba(60, 64, 67, 0.15);\n",
              "      fill: #174EA6;\n",
              "    }\n",
              "\n",
              "    [theme=dark] .colab-df-convert {\n",
              "      background-color: #3B4455;\n",
              "      fill: #D2E3FC;\n",
              "    }\n",
              "\n",
              "    [theme=dark] .colab-df-convert:hover {\n",
              "      background-color: #434B5C;\n",
              "      box-shadow: 0px 1px 3px 1px rgba(0, 0, 0, 0.15);\n",
              "      filter: drop-shadow(0px 1px 2px rgba(0, 0, 0, 0.3));\n",
              "      fill: #FFFFFF;\n",
              "    }\n",
              "  </style>\n",
              "\n",
              "      <script>\n",
              "        const buttonEl =\n",
              "          document.querySelector('#df-c4174622-55a5-4f4f-80cb-b0a877ace64f button.colab-df-convert');\n",
              "        buttonEl.style.display =\n",
              "          google.colab.kernel.accessAllowed ? 'block' : 'none';\n",
              "\n",
              "        async function convertToInteractive(key) {\n",
              "          const element = document.querySelector('#df-c4174622-55a5-4f4f-80cb-b0a877ace64f');\n",
              "          const dataTable =\n",
              "            await google.colab.kernel.invokeFunction('convertToInteractive',\n",
              "                                                     [key], {});\n",
              "          if (!dataTable) return;\n",
              "\n",
              "          const docLinkHtml = 'Like what you see? Visit the ' +\n",
              "            '<a target=\"_blank\" href=https://colab.research.google.com/notebooks/data_table.ipynb>data table notebook</a>'\n",
              "            + ' to learn more about interactive tables.';\n",
              "          element.innerHTML = '';\n",
              "          dataTable['output_type'] = 'display_data';\n",
              "          await google.colab.output.renderOutput(dataTable, element);\n",
              "          const docLink = document.createElement('div');\n",
              "          docLink.innerHTML = docLinkHtml;\n",
              "          element.appendChild(docLink);\n",
              "        }\n",
              "      </script>\n",
              "    </div>\n",
              "  </div>\n",
              "  "
            ]
          },
          "metadata": {},
          "execution_count": 12
        }
      ]
    },
    {
      "cell_type": "markdown",
      "metadata": {
        "id": "17ikVVdWquKP"
      },
      "source": [
        "Checking Missing Values in both case: Train & Test"
      ]
    },
    {
      "cell_type": "code",
      "execution_count": null,
      "metadata": {
        "colab": {
          "base_uri": "https://localhost:8080/"
        },
        "id": "zUH0dGO4j4F1",
        "outputId": "1fba4db6-e7da-4666-a032-a2accb17d06a"
      },
      "outputs": [
        {
          "name": "stdout",
          "output_type": "stream",
          "text": [
            "There are no missing values\n"
          ]
        }
      ],
      "source": [
        "missing=0\n",
        "for i in df_train.isnull().sum():\n",
        "    if i>0  :\n",
        "      missing=missing+1\n",
        "if missing==0:\n",
        "  print('There are no missing values') "
      ]
    },
    {
      "cell_type": "code",
      "execution_count": null,
      "metadata": {
        "colab": {
          "base_uri": "https://localhost:8080/"
        },
        "id": "EwtHPsUjLch9",
        "outputId": "7beffed1-145f-46ca-97a9-e34afc29e7e8"
      },
      "outputs": [
        {
          "name": "stdout",
          "output_type": "stream",
          "text": [
            "There are no missing values\n"
          ]
        }
      ],
      "source": [
        "missing=0\n",
        "for i in df_test.isnull().sum():\n",
        "    if i>0  :\n",
        "      missing=missing+1\n",
        "if missing==0:\n",
        "  print('There are no missing values')"
      ]
    },
    {
      "cell_type": "markdown",
      "metadata": {
        "id": "Yx73a5vPrcJW"
      },
      "source": [
        "Since the convolutional 2d layers accept only 4 dimensional tensors, we have to convert the data into numpy arrays first. And later we shall create joint tensor datasets using these numpy arrays. A function is created with the input as csv data. A numpy array with the dimensions of csv data is created. Further, we extract the label class columns and x train data."
      ]
    },
    {
      "cell_type": "code",
      "execution_count": null,
      "metadata": {
        "id": "LLTYrRLSj-Z2"
      },
      "outputs": [],
      "source": [
        "image_height=28                                         # The image dimensions are set and saved into variables which in our case is 28 * 28 * 1 (Greyscale Images)\n",
        "image_width=28\n",
        "num_classes=10                                          # We have 10 classes hence an variable is created \n",
        "\n",
        "def process_data(csv):\n",
        "\n",
        "  fashion_np_array=np.loadtxt(csv, delimiter=',', skiprows=1)\n",
        "  \n",
        "\n",
        "  Y=fashion_np_array[:,0]                             # All the rows and first column\n",
        "  Y.astype('int32')                                   # Label array is cast as int32 to reduce computational memory load of neural network model\n",
        "\n",
        "  X=fashion_np_array[:,1:]                            # All the rows and and all  columns leaing the first\n",
        "\n",
        "  num_images=X.shape[0]                               # The num of images is the first element of X shape tuple(num of rows)\n",
        "\n",
        "  X_reshaped=X.reshape( num_images,image_height, image_width, 1)        # The train data(image pixel values) array is reshaped into appropriate dimensions with one colour channel(greyscale)\n",
        "\n",
        "  X_reshaped=X_reshaped.astype('float32')/255         # The input image data is rescaled to contain values between 0 and 1. this facilitates a standardisation of the range of the whole dataset\n",
        "\n",
        "  return X_reshaped, Y                                # image data array and label array are returned\n"
      ]
    },
    {
      "cell_type": "code",
      "execution_count": null,
      "metadata": {
        "id": "bwO1QRSHnsxi"
      },
      "outputs": [],
      "source": [
        "train_csv_file_path='/content/fashionmnist/fashion-mnist_train.csv'                         #train data csv path\n",
        "        \n",
        "image_data_full,label_full=process_data(train_csv_file_path)                                # The train image pixel data and label class data are obtained by calling process function"
      ]
    },
    {
      "cell_type": "code",
      "execution_count": null,
      "metadata": {
        "id": "wuvOij_X-dgm"
      },
      "outputs": [],
      "source": [
        "test_csv_file_path='/content/fashionmnist/fashion-mnist_test.csv'                              #test data csv path\n",
        "        \n",
        "test_data_full,test_label_full=process_data(test_csv_file_path)                                # The test image pixel data and label class data are obtained by calling process function"
      ]
    },
    {
      "cell_type": "code",
      "execution_count": null,
      "metadata": {
        "colab": {
          "base_uri": "https://localhost:8080/"
        },
        "id": "cZRU97gurQ6g",
        "outputId": "02ba4ab0-f975-4b7f-a6f2-26fded564ad1"
      },
      "outputs": [
        {
          "output_type": "execute_result",
          "data": {
            "text/plain": [
              "(60000, 28, 28, 1)"
            ]
          },
          "metadata": {},
          "execution_count": 16
        }
      ],
      "source": [
        "image_data_full.shape                                                          #shape of image data"
      ]
    },
    {
      "cell_type": "code",
      "execution_count": null,
      "metadata": {
        "colab": {
          "base_uri": "https://localhost:8080/"
        },
        "id": "P_SmLMWWrZ9g",
        "outputId": "1cf39563-6e69-469a-c59b-4a9d22834fa7"
      },
      "outputs": [
        {
          "output_type": "execute_result",
          "data": {
            "text/plain": [
              "(60000,)"
            ]
          },
          "metadata": {},
          "execution_count": 17
        }
      ],
      "source": [
        "label_full.shape                                                               #shape of lebel data"
      ]
    },
    {
      "cell_type": "code",
      "execution_count": null,
      "metadata": {
        "colab": {
          "base_uri": "https://localhost:8080/"
        },
        "id": "gWz7CYTt_w7d",
        "outputId": "5d902e12-3906-4dbc-d742-3babf31aa492"
      },
      "outputs": [
        {
          "output_type": "execute_result",
          "data": {
            "text/plain": [
              "(10000, 28, 28, 1)"
            ]
          },
          "metadata": {},
          "execution_count": 18
        }
      ],
      "source": [
        "test_data_full.shape                                                          #shape of test data"
      ]
    },
    {
      "cell_type": "code",
      "execution_count": null,
      "metadata": {
        "colab": {
          "base_uri": "https://localhost:8080/"
        },
        "id": "0iDUMP8x_1NC",
        "outputId": "f36dc118-36df-465e-e553-84c05cc56d35"
      },
      "outputs": [
        {
          "output_type": "execute_result",
          "data": {
            "text/plain": [
              "(10000,)"
            ]
          },
          "metadata": {},
          "execution_count": 19
        }
      ],
      "source": [
        "test_label_full.shape                                                         #shape of test data lebel"
      ]
    },
    {
      "cell_type": "markdown",
      "metadata": {
        "id": "ASbWrQs-snvb"
      },
      "source": [
        "Train Test Split:"
      ]
    },
    {
      "cell_type": "code",
      "execution_count": null,
      "metadata": {
        "id": "qjAbBkUPn9ey"
      },
      "outputs": [],
      "source": [
        "x_train, x_val, y_train, y_val = tts(image_data_full,label_full,test_size=0.17,                         # The train data is further split into train and Validation data\n",
        "                                                    random_state=2)"
      ]
    },
    {
      "cell_type": "code",
      "execution_count": null,
      "metadata": {
        "colab": {
          "base_uri": "https://localhost:8080/"
        },
        "id": "P_B9bKC2oJ40",
        "outputId": "3dfc401f-60be-40e9-966e-92ee2a8b6a54"
      },
      "outputs": [
        {
          "output_type": "execute_result",
          "data": {
            "text/plain": [
              "(49800, 28, 28, 1)"
            ]
          },
          "metadata": {},
          "execution_count": 11
        }
      ],
      "source": [
        "x_train.shape                                                                                             #checking train shape value"
      ]
    },
    {
      "cell_type": "code",
      "execution_count": null,
      "metadata": {
        "id": "y_bNrjZJHd9V"
      },
      "outputs": [],
      "source": [
        "ds_train_images_labels=tf.data.Dataset.from_tensor_slices((x_train,y_train))                      # Joint tensorflow datasets are obtained from image pixel data slices and label data slices\n",
        "\n",
        "ds_val_images_labels=tf.data.Dataset.from_tensor_slices((x_val,y_val))                            # for train,test and validation data respectively\n",
        "\n",
        "ds_test_images_labels=tf.data.Dataset.from_tensor_slices((test_data_full,test_label_full))"
      ]
    },
    {
      "cell_type": "markdown",
      "source": [
        "### A figure is plotted containing ten subplots of the first 10 images of training data"
      ],
      "metadata": {
        "id": "lQ4E5qCnr4z1"
      }
    },
    {
      "cell_type": "code",
      "execution_count": null,
      "metadata": {
        "colab": {
          "base_uri": "https://localhost:8080/",
          "height": 480
        },
        "id": "YmLS38sbHxzi",
        "outputId": "62eb48b9-d44a-461e-be9d-bc712c8099a7"
      },
      "outputs": [
        {
          "output_type": "display_data",
          "data": {
            "text/plain": [
              "<Figure size 1440x576 with 10 Axes>"
            ],
            "image/png": "[encoded data removed]"
          },
          "metadata": {}
        }
      ],
      "source": [
        "fig=plt.figure(figsize=(20,8))                                                   # Figsize is set to 20*8 and the canvas created\n",
        "                                                                                \n",
        "for index,image in enumerate(ds_train_images_labels):                            # A for loop is generated to loop through the first 10 images\n",
        "\n",
        "  if index<10:\n",
        "\n",
        "    ax=fig.add_subplot(2,5,index+1)                                              # For each iamge a subplot is created\n",
        "\n",
        "    ax.set_xticks([]);ax.set_yticks([])\n",
        "\n",
        "    ax.imshow(np.squeeze(image[0]))                                             # The image data tensor is squeezed into a two dim numpy array and plotted\n",
        "\n",
        "    label_index=image[1].numpy()                                                # The label data tensor(cloth class number) is saved into an a variable\n",
        "    title=classNameslabels[label_index]                                         # The name of cloth is extracted from classnames dictionary using the label number which is the key of dict\n",
        "\n",
        "    ax.set_title('{}'.format(title))                                            # The title of subplot is set as label name\n",
        "\n",
        "    \n",
        "plt.show()                              # Plot shown\n",
        " "
      ]
    },
    {
      "cell_type": "markdown",
      "source": [
        "###A figure is plotted containing ten subplots of the first 10 images of test data"
      ],
      "metadata": {
        "id": "QZ2MS18KuXoi"
      }
    },
    {
      "cell_type": "code",
      "execution_count": null,
      "metadata": {
        "colab": {
          "base_uri": "https://localhost:8080/",
          "height": 480
        },
        "id": "-h0iXrdjAKkm",
        "outputId": "94087dc2-2613-44d2-bed8-8cb97cae3922"
      },
      "outputs": [
        {
          "output_type": "display_data",
          "data": {
            "text/plain": [
              "<Figure size 1440x576 with 10 Axes>"
            ],
            "image/png": "[encoded data removed]"
          },
          "metadata": {}
        }
      ],
      "source": [
        "fig=plt.figure(figsize=(20,8))\n",
        "\n",
        "for index,image in enumerate(ds_test_images_labels):\n",
        "\n",
        "  if index<10:\n",
        "\n",
        "    ax=fig.add_subplot(2,5,index+1)\n",
        "\n",
        "    ax.set_xticks([]);ax.set_yticks([])\n",
        "\n",
        "    ax.imshow(np.squeeze(image[0]))\n",
        "    \n",
        "    label_index=image[1].numpy()\n",
        "    title=classNameslabels[label_index]\n",
        "    ax.set_title('{}'.format(title))\n",
        "    \n",
        "plt.show() "
      ]
    },
    {
      "cell_type": "markdown",
      "source": [
        "###A figure is plotted containing ten subplots of the first 10 images of Validation data"
      ],
      "metadata": {
        "id": "xlncZGYovM03"
      }
    },
    {
      "cell_type": "code",
      "execution_count": null,
      "metadata": {
        "colab": {
          "base_uri": "https://localhost:8080/",
          "height": 480
        },
        "id": "OcoUINJ7cluN",
        "outputId": "ae43e846-7cc2-4a35-87a6-aa5a9b1506a9"
      },
      "outputs": [
        {
          "output_type": "display_data",
          "data": {
            "text/plain": [
              "<Figure size 1440x576 with 10 Axes>"
            ],
            "image/png": "[encoded data removed]"
          },
          "metadata": {}
        }
      ],
      "source": [
        "fig=plt.figure(figsize=(20,8))\n",
        "for index,image in enumerate(ds_val_images_labels):\n",
        "  if index<10:\n",
        "    ax=fig.add_subplot(2,5,index+1)\n",
        "    ax.set_xticks([]);ax.set_yticks([])\n",
        "    ax.imshow(np.squeeze(image[0]))\n",
        "    label_index=image[1].numpy()\n",
        "    title=classNameslabels[label_index]\n",
        "    ax.set_title('{}'.format(title))\n",
        "    \n",
        "plt.show() "
      ]
    },
    {
      "cell_type": "markdown",
      "metadata": {
        "id": "FGjn1KHEtbXO"
      },
      "source": [
        "### If the original training data is fed to the CNN it may lead to overfitting as the model will be able to predict well on the training data but generalise poorly on new unseen data. in order to overcome this we apply random data augmentation to the data to slightly modify them. Hence the model would be able to generalise to new data. Here, we build a data augmentation pipeline consisting of random cropping, resizing to desired size and then flipping of the images horizontally at random. "
      ]
    },
    {
      "cell_type": "code",
      "execution_count": null,
      "metadata": {
        "id": "yYVzbgxuPxFN"
      },
      "outputs": [],
      "source": [
        "def preprocess(image_data, label, size=(28, 28,1), mode='train'):      # Arguments of function are image data, label data and desired Resizing size. The mode is default as train.\n",
        "\n",
        "    if mode == 'train':                                                      # When the mode is in train, data augmentation will be applied.\n",
        "\n",
        "        image_cropped = tf.image.random_crop(image_data,                     # The image is randomly cropped with uniform random offset to size of 24 * 28\n",
        "                                             size=(24, 28, 1))\n",
        "        \n",
        "        image_resized = tf.image.resize(image_cropped, size=size)            # The image is resized to a fixed size\n",
        "        \n",
        "        image_flip = tf.image.random_flip_left_right(image_resized)          # Image is randomly flipped horizontally\n",
        "        \n",
        "        return (image_flip, label)                                            # Images and labels are returned\n",
        "    \n",
        "    else:                                       # If mode is validation or test, to maintain uniformity between train and test images, image shall be cropped to bounding box instead of random\n",
        "\n",
        "        image_cropped = tf.image.crop_to_bounding_box(image_data, offset_height=2, offset_width=0,            # Such that that the Centre Part of image is taken\n",
        "                                                      target_height=24, target_width=28)\n",
        "        \n",
        "        image_resized = tf.image.resize(image_cropped, size=size)                                   \n",
        "        \n",
        "        return image_resized,label                                # A tuple containing images and labels are returned"
      ]
    },
    {
      "cell_type": "markdown",
      "source": [
        "### We plot a few augmented images from training data"
      ],
      "metadata": {
        "id": "zZmS0IX_2-WD"
      }
    },
    {
      "cell_type": "code",
      "execution_count": null,
      "metadata": {
        "colab": {
          "base_uri": "https://localhost:8080/",
          "height": 357
        },
        "id": "A1npJCyjVVL2",
        "outputId": "cb0a940b-c986-471d-fc85-69b99f5d21f0"
      },
      "outputs": [
        {
          "output_type": "display_data",
          "data": {
            "text/plain": [
              "<Figure size 1080x432 with 10 Axes>"
            ],
            "image/png": "[encoded data removed]"
          },
          "metadata": {}
        }
      ],
      "source": [
        "tf.random.set_seed(1)\n",
        "\n",
        "ds = ds_train_images_labels.shuffle(1000, reshuffle_each_iteration=False)                 # The train image and label tensorslice dataset is shuffled randomly\n",
        "ds = ds.take(2).repeat(5)                                                         # 2 images are taken from dataset and process repeated to get 10 augmented images\n",
        "\n",
        "ds = ds.map(lambda x,y : preprocess(x,y, size=(24, 24), mode='train'))            # each image is mapped to the preprocess function to get augmented images of size 24 * 24 \n",
        "\n",
        "fig = plt.figure(figsize=(15, 6))\n",
        "\n",
        "for j,example in enumerate(ds):\n",
        "    ax = fig.add_subplot(2, 5, j//2+(j%2)*5+1)\n",
        "    ax.set_xticks([])\n",
        "    ax.set_yticks([])\n",
        "    ax.imshow(np.squeeze(example[0]))\n",
        "    \n",
        "#plt.savefig('figures/15_16.png', dpi=300)\n",
        "plt.show()"
      ]
    },
    {
      "cell_type": "markdown",
      "source": [
        "## Batch tensor datasets are created to be fed into the model"
      ],
      "metadata": {
        "id": "VzZH-k7s3wUq"
      }
    },
    {
      "cell_type": "code",
      "execution_count": null,
      "metadata": {
        "id": "M0fCUBCT9iTb"
      },
      "outputs": [],
      "source": [
        "BATCH_SIZE = 64                                               # Batch size of 64 is taken as it will be computationally expensive if all the data\n",
        "                                                              # is fed into model for a full forward and backward propagation and updation of weights\n",
        "                                                               \n",
        "BUFFER_SIZE = 10000                                 # Shuffle buffer size is taken to be 10000                               \n",
        "\n",
        "IMAGE_SIZE = (24, 24)\n",
        "\n",
        "\n",
        "ds_train = ds_train_images_labels.map(lambda x,y : preprocess(x,y, size=IMAGE_SIZE, mode='train'))    #each training image is mapped to the preprocess function to get augmented images of size 24 * 24\n",
        "\n",
        "ds_train = ds_train.shuffle(buffer_size=BUFFER_SIZE).repeat()                                         # Traing dataset is shuffled to introduce randomness of sample points and reduce bias\n",
        "\n",
        "ds_train = ds_train.batch(BATCH_SIZE)                                                                 # A mini batch dataset of 64 images each are taken. \n",
        "                                                                                                      # When the model is trained successive batches of data will be fed\n",
        "\n",
        "ds_val = ds_val_images_labels.map(lambda x,y : preprocess(x,y, size=IMAGE_SIZE, mode='eval'))         # #each Validation image is mapped to the preprocess function\n",
        "\n",
        "ds_val = ds_val.batch(BATCH_SIZE)"
      ]
    },
    {
      "cell_type": "markdown",
      "source": [
        "### To facilitate efficient execution of training model we cache the data, so that once one epoch is completed and the model has seen all images atleast once, the image dataset is saved to cache. This saves memory instead of loading the images repeatedly into memory and creating an I/O bottleneck. To facilitate faster execution, the prefetch call is used to fetch the next batch of images while model is training on current batch. "
      ],
      "metadata": {
        "id": "byfEaFQw-m8C"
      }
    },
    {
      "cell_type": "code",
      "execution_count": null,
      "metadata": {
        "id": "52WYpMk0rxe8"
      },
      "outputs": [],
      "source": [
        "AUTOTUNE = tf.data.AUTOTUNE \n",
        "\n",
        "ds_train = ds_train.cache().prefetch(buffer_size=AUTOTUNE)\n",
        "ds_val = ds_val.cache().prefetch(buffer_size=AUTOTUNE)"
      ]
    },
    {
      "cell_type": "code",
      "execution_count": null,
      "metadata": {
        "id": "m_DjBM9Y9rCu"
      },
      "outputs": [],
      "source": [
        "#_, trainImageLabelInfo = np.unique(y_train_full, return_counts=True)\n",
        "#_, testImageLabelInfo = np.unique(y_test, return_counts = True)"
      ]
    },
    {
      "cell_type": "code",
      "execution_count": null,
      "metadata": {
        "id": "73DsbqGv95Sj"
      },
      "outputs": [],
      "source": [
        "# Creating Dataframe for stroing image labels metadata\n",
        "# Using Dictionary concept\n",
        "\n",
        "#pd.DataFrame({\"Train\":trainImageLabelInfo,\n",
        "            #\"Test\": testImageLabelInfo}, \n",
        "            # index = classNames\n",
        "            #).plot.bar()\n",
        "# plt.plot()\n",
        "# plt.bar()\n",
        "#plt.title(\"Image Labels Classification for Cats and Dogs Datasets\")\n",
        "#plt.grid(False)\n",
        "#plt.tight_layout()\n",
        "#plt.show()"
      ]
    },
    {
      "cell_type": "markdown",
      "metadata": {
        "id": "t0jDuEzftq6m"
      },
      "source": [
        "# **Model Creation:**"
      ]
    },
    {
      "cell_type": "markdown",
      "metadata": {
        "id": "wxPbEzwhuHc5"
      },
      "source": [
        "#### In artificial neural networks, the model searches for patterns and features in the global scape of the data, while in CNN the model searches for local features and patterns in data. Hence, the efficient extraction of features from images.\n",
        "#### It essentially consists of a Convolutional layer. This layer acts like a filter to extract important features like horizontal and vertical edges of images, colours, textures, etc. It has a kernel size like that of a matrix. The earlier layers are used to extract low level features such as edges and the combination of these fatures are used by later layers to classify more advanced features such as eyes or face. The convolution operation is performed by placing the kernel on the input matrix and performing strides with a defined step size till the whole input tensor matrix is covered. The step size defines the amount or quality of features obtained. After one convo operation of kernel with input matrix a feature sample point is obtained and using the the activation function the feature points multiplied by weights and summed with bias are passed though activation function. \n",
        "#### The weights are initialized randomly with the help of a weight initializer in our case the Glorot uniform initializer. Repeating this process results in a feature matrix in forward propagation. In the back propagation, the weights assigned to feature points are updated by the optimizer. Here, we use Adam which is a combination of adaptive gradient descent,ie, to adaptively updating learning rate using running average of weighted moments. We choose the number of kernels or filters to pass in a convolutional layer\n",
        "\n",
        "####Here, we use two activation functions- relu and softmax. Relu function gives the same output as input if input is greater than 0. Else, it returns a value of 0. This solves the vanishing gradient problem (as in sigmoid). The softmax activation is used for classifying multiple categories. It returns a probability of that particular class. The padding has been set to same to obtain the same output size matrix as that of the input. It is padded with zeroes.\n",
        "\n",
        "#### The Maxpooling layer reduces the size of output feature matrix to half . This is done successively in later layers so that the pixel in later layers has maximum view on the initial input image pixel layer. Moreover, it helps in reducing the number of parameters.\n",
        "\n",
        "#### A dropout layer is  initialized to perform regularisation to generalise well on unseen data. This layer randomly drops neurons in the layer at a desired rate. This reduces the number of parameters and reduces overfitting.\n",
        "\n",
        "#### We build 4 hidden layers each consisting of a filter layer, a maxpooling layer and a dropout layer of kernel sizes increasing towards 32, 64, 128 to 256. Finally we add a flatten layer to flatten the features matrix into a one dimensional array to be used as input by the next Dense layer containing 128 neurons. The final dense layer is a classification layer containing 10 neurons."
      ]
    },
    {
      "cell_type": "code",
      "execution_count": null,
      "metadata": {
        "id": "wz0r0hL9_509"
      },
      "outputs": [],
      "source": [
        "num_classes=10\n",
        "\n",
        "model = Sequential([\n",
        "    \n",
        "    # Input Layer\n",
        "    \n",
        "    layers.Conv2D(filters=32, kernel_initializer='glorot_uniform', kernel_size= (3, 3), activation = \"relu\", input_shape = (24, 24, 1), padding='same'),\n",
        "    layers.MaxPooling2D(pool_size=(2, 2)),\n",
        "    layers.Dropout( rate= 0.5),\n",
        "    \n",
        "    #1st Hidden Layer\n",
        "\n",
        "    layers.Conv2D(filters= 64, kernel_initializer='glorot_uniform', kernel_size= (3, 3), activation = \"relu\", padding='same'),\n",
        "    layers.MaxPooling2D(pool_size=(2, 2)),\n",
        "    layers.Dropout( rate= 0.5),\n",
        "    \n",
        "     #2nd Hidden Layer\n",
        "    \n",
        "    layers.Conv2D(filters= 128, kernel_initializer='glorot_uniform', kernel_size= (3, 3), activation = \"relu\", padding='same'),\n",
        "    layers.MaxPooling2D(pool_size=(2, 2)),\n",
        "    layers.Dropout( rate= 0.5),\n",
        "    #3rd Hidden Layer\n",
        "\n",
        "    layers.Conv2D(filters= 256, kernel_initializer='glorot_uniform', kernel_size= (3, 3), activation = \"relu\", padding='same'),\n",
        "    layers.MaxPooling2D(pool_size=(2, 2)),\n",
        "    layers.Dropout( rate= 0.5),\n",
        "\n",
        "    \n",
        "    layers.Flatten(),\n",
        "    \n",
        "    # Connected Layer\n",
        "    \n",
        "    layers.Dense(128, kernel_initializer=\"glorot_uniform\", activation = \"relu\"),\n",
        "    layers.Dense(num_classes, name=\"outputs\")\n",
        "])"
      ]
    },
    {
      "cell_type": "markdown",
      "metadata": {
        "id": "9_g5MVX6ty6A"
      },
      "source": [
        "# **Model Summary:**"
      ]
    },
    {
      "cell_type": "markdown",
      "metadata": {
        "id": "5Zv0LvyluGHf"
      },
      "source": [
        "#### We can get a summary of our model and the parameters of each layer and its dimension"
      ]
    },
    {
      "cell_type": "code",
      "execution_count": null,
      "metadata": {
        "colab": {
          "base_uri": "https://localhost:8080/"
        },
        "id": "n0Ic98OZFFVq",
        "outputId": "b0929fd8-f9a1-4bc5-ec3d-6f38e30c62f5"
      },
      "outputs": [
        {
          "output_type": "stream",
          "name": "stdout",
          "text": [
            "Model: \"sequential\"\n",
            "_________________________________________________________________\n",
            " Layer (type)                Output Shape              Param #   \n",
            "=================================================================\n",
            " conv2d (Conv2D)             (None, 24, 24, 32)        320       \n",
            "                                                                 \n",
            " max_pooling2d (MaxPooling2D  (None, 12, 12, 32)       0         \n",
            " )                                                               \n",
            "                                                                 \n",
            " dropout (Dropout)           (None, 12, 12, 32)        0         \n",
            "                                                                 \n",
            " conv2d_1 (Conv2D)           (None, 12, 12, 64)        18496     \n",
            "                                                                 \n",
            " max_pooling2d_1 (MaxPooling  (None, 6, 6, 64)         0         \n",
            " 2D)                                                             \n",
            "                                                                 \n",
            " dropout_1 (Dropout)         (None, 6, 6, 64)          0         \n",
            "                                                                 \n",
            " conv2d_2 (Conv2D)           (None, 6, 6, 128)         73856     \n",
            "                                                                 \n",
            " max_pooling2d_2 (MaxPooling  (None, 3, 3, 128)        0         \n",
            " 2D)                                                             \n",
            "                                                                 \n",
            " dropout_2 (Dropout)         (None, 3, 3, 128)         0         \n",
            "                                                                 \n",
            " conv2d_3 (Conv2D)           (None, 3, 3, 256)         295168    \n",
            "                                                                 \n",
            " max_pooling2d_3 (MaxPooling  (None, 1, 1, 256)        0         \n",
            " 2D)                                                             \n",
            "                                                                 \n",
            " dropout_3 (Dropout)         (None, 1, 1, 256)         0         \n",
            "                                                                 \n",
            " flatten (Flatten)           (None, 256)               0         \n",
            "                                                                 \n",
            " dense (Dense)               (None, 128)               32896     \n",
            "                                                                 \n",
            " outputs (Dense)             (None, 10)                1290      \n",
            "                                                                 \n",
            "=================================================================\n",
            "Total params: 422,026\n",
            "Trainable params: 422,026\n",
            "Non-trainable params: 0\n",
            "_________________________________________________________________\n"
          ]
        }
      ],
      "source": [
        "model.summary()"
      ]
    },
    {
      "cell_type": "markdown",
      "metadata": {
        "id": "zqPvTs67t5mN"
      },
      "source": [
        "# **Model compiling:**"
      ]
    },
    {
      "cell_type": "markdown",
      "metadata": {
        "id": "_Z5Mn8IwuBgs"
      },
      "source": [
        "#### the model is compiled with Adam optimizer and loss function is set Sparse Categorical Crossentropy. It computes loss from logits as we have not provided a softmax activation in final layer and hence there are probabilities obtained."
      ]
    },
    {
      "cell_type": "code",
      "execution_count": null,
      "metadata": {
        "id": "W8VyJzOwFSZA"
      },
      "outputs": [],
      "source": [
        "model.compile(optimizer = keras.optimizers.Adam(),\n",
        "             loss = keras.losses.SparseCategoricalCrossentropy(from_logits=True),\n",
        "             metrics = ['accuracy'])"
      ]
    },
    {
      "cell_type": "markdown",
      "source": [
        "#### A forward and backward propagation is completed when the model passes through a batch size of 64 images. Hence, we give a step size of 779,ie, 779 forward and back propagations will be performed in one epoch to update weights and bias."
      ],
      "metadata": {
        "id": "vwpapr09QQJe"
      }
    },
    {
      "cell_type": "code",
      "execution_count": null,
      "metadata": {
        "colab": {
          "base_uri": "https://localhost:8080/"
        },
        "id": "DdwvBtIPzV9E",
        "outputId": "0ee40470-31fe-49c1-b643-116d76d9e397"
      },
      "outputs": [
        {
          "output_type": "stream",
          "name": "stdout",
          "text": [
            "779.0\n"
          ]
        }
      ],
      "source": [
        "steps_per_epoch = np.ceil(49800/BATCH_SIZE)\n",
        "print(steps_per_epoch)"
      ]
    },
    {
      "cell_type": "markdown",
      "metadata": {
        "id": "cXujwGi7uP2R"
      },
      "source": [
        "# **Model Fitting:**"
      ]
    },
    {
      "cell_type": "markdown",
      "metadata": {
        "id": "iXJQKVJAuTsN"
      },
      "source": [
        "#### The model is fitted with train dataset and validation dataset is provided. The number of epochs is set to 20 . With each epoch, the training dataset will be shuffled. The loss and accuracy of training and validation are noted with each iteration."
      ]
    },
    {
      "cell_type": "code",
      "execution_count": null,
      "metadata": {
        "colab": {
          "base_uri": "https://localhost:8080/"
        },
        "id": "Pf_KWnIQzXhw",
        "outputId": "42d9d429-37af-420d-ade2-86efc6069fa4"
      },
      "outputs": [
        {
          "output_type": "stream",
          "name": "stdout",
          "text": [
            "Epoch 1/20\n",
            "779/779 [==============================] - 10s 8ms/step - loss: 0.9646 - accuracy: 0.6262 - val_loss: 0.5769 - val_accuracy: 0.7746\n",
            "Epoch 2/20\n",
            "779/779 [==============================] - 8s 10ms/step - loss: 0.6349 - accuracy: 0.7502 - val_loss: 0.5018 - val_accuracy: 0.7989\n",
            "Epoch 3/20\n",
            "779/779 [==============================] - 6s 7ms/step - loss: 0.5805 - accuracy: 0.7703 - val_loss: 0.4550 - val_accuracy: 0.8245\n",
            "Epoch 4/20\n",
            "779/779 [==============================] - 7s 10ms/step - loss: 0.5454 - accuracy: 0.7863 - val_loss: 0.4338 - val_accuracy: 0.8334\n",
            "Epoch 5/20\n",
            "779/779 [==============================] - 9s 11ms/step - loss: 0.5210 - accuracy: 0.7977 - val_loss: 0.4022 - val_accuracy: 0.8494\n",
            "Epoch 6/20\n",
            "779/779 [==============================] - 8s 11ms/step - loss: 0.5029 - accuracy: 0.8047 - val_loss: 0.3847 - val_accuracy: 0.8547\n",
            "Epoch 7/20\n",
            "779/779 [==============================] - 6s 7ms/step - loss: 0.4885 - accuracy: 0.8137 - val_loss: 0.3962 - val_accuracy: 0.8501\n",
            "Epoch 8/20\n",
            "779/779 [==============================] - 6s 7ms/step - loss: 0.4740 - accuracy: 0.8201 - val_loss: 0.3693 - val_accuracy: 0.8617\n",
            "Epoch 9/20\n",
            "779/779 [==============================] - 7s 10ms/step - loss: 0.4626 - accuracy: 0.8230 - val_loss: 0.3525 - val_accuracy: 0.8709\n",
            "Epoch 10/20\n",
            "779/779 [==============================] - 11s 14ms/step - loss: 0.4544 - accuracy: 0.8274 - val_loss: 0.3485 - val_accuracy: 0.8747\n",
            "Epoch 11/20\n",
            "779/779 [==============================] - 8s 11ms/step - loss: 0.4478 - accuracy: 0.8299 - val_loss: 0.3515 - val_accuracy: 0.8668\n",
            "Epoch 12/20\n",
            "779/779 [==============================] - 6s 8ms/step - loss: 0.4451 - accuracy: 0.8332 - val_loss: 0.3351 - val_accuracy: 0.8754\n",
            "Epoch 13/20\n",
            "779/779 [==============================] - 6s 7ms/step - loss: 0.4379 - accuracy: 0.8335 - val_loss: 0.3303 - val_accuracy: 0.8760\n",
            "Epoch 14/20\n",
            "779/779 [==============================] - 6s 8ms/step - loss: 0.4382 - accuracy: 0.8370 - val_loss: 0.3392 - val_accuracy: 0.8785\n",
            "Epoch 15/20\n",
            "779/779 [==============================] - 7s 9ms/step - loss: 0.4287 - accuracy: 0.8395 - val_loss: 0.3278 - val_accuracy: 0.8797\n",
            "Epoch 16/20\n",
            "779/779 [==============================] - 7s 9ms/step - loss: 0.4242 - accuracy: 0.8383 - val_loss: 0.3230 - val_accuracy: 0.8817\n",
            "Epoch 17/20\n",
            "779/779 [==============================] - 7s 9ms/step - loss: 0.4227 - accuracy: 0.8401 - val_loss: 0.3480 - val_accuracy: 0.8647\n",
            "Epoch 18/20\n",
            "779/779 [==============================] - 7s 9ms/step - loss: 0.4172 - accuracy: 0.8429 - val_loss: 0.3307 - val_accuracy: 0.8779\n",
            "Epoch 19/20\n",
            "779/779 [==============================] - 7s 9ms/step - loss: 0.4170 - accuracy: 0.8439 - val_loss: 0.3112 - val_accuracy: 0.8854\n",
            "Epoch 20/20\n",
            "779/779 [==============================] - 7s 9ms/step - loss: 0.4156 - accuracy: 0.8444 - val_loss: 0.3173 - val_accuracy: 0.8824\n"
          ]
        }
      ],
      "source": [
        "ModelData = model.fit(ds_train,\n",
        "                      validation_data=ds_val,\n",
        "                      steps_per_epoch=steps_per_epoch,\n",
        "                      epochs = 20, shuffle=True)"
      ]
    },
    {
      "cell_type": "code",
      "execution_count": null,
      "metadata": {
        "id": "BzlLj6B538VG",
        "colab": {
          "base_uri": "https://localhost:8080/"
        },
        "outputId": "c5c0996c-f79c-4f56-c45f-33a9a61c6754"
      },
      "outputs": [
        {
          "output_type": "execute_result",
          "data": {
            "text/plain": [
              "dict_keys(['loss', 'accuracy', 'val_loss', 'val_accuracy'])"
            ]
          },
          "metadata": {},
          "execution_count": 19
        }
      ],
      "source": [
        "ModelData.history.keys()"
      ]
    },
    {
      "cell_type": "markdown",
      "source": [
        "### Plot of training and validation Accuracy with each epoch "
      ],
      "metadata": {
        "id": "lYCh6RaoRHmn"
      }
    },
    {
      "cell_type": "code",
      "execution_count": null,
      "metadata": {
        "id": "yB4pLckE4Bf5",
        "colab": {
          "base_uri": "https://localhost:8080/",
          "height": 312
        },
        "outputId": "10b3c235-9061-4540-d5cc-fdbd71adceec"
      },
      "outputs": [
        {
          "output_type": "execute_result",
          "data": {
            "text/plain": [
              "<matplotlib.legend.Legend at 0x7f38a2644790>"
            ]
          },
          "metadata": {},
          "execution_count": 20
        },
        {
          "output_type": "display_data",
          "data": {
            "text/plain": [
              "<Figure size 432x288 with 1 Axes>"
            ],
            "image/png": "[encoded data removed]"
          },
          "metadata": {
            "needs_background": "light"
          }
        }
      ],
      "source": [
        "plt.plot(ModelData.history['accuracy'])\n",
        "plt.plot(ModelData.history['val_accuracy'])\n",
        "plt.title('Accuracy')\n",
        "plt.xlabel('epochs')\n",
        "plt.ylabel('accuracy')\n",
        "plt.legend(['train','test'],loc='lower right')"
      ]
    },
    {
      "cell_type": "markdown",
      "source": [
        "### Plot of training and validation loss with each epoch"
      ],
      "metadata": {
        "id": "nvzk7F93RX5n"
      }
    },
    {
      "cell_type": "code",
      "execution_count": null,
      "metadata": {
        "id": "gjCK3Bw94HRk",
        "colab": {
          "base_uri": "https://localhost:8080/",
          "height": 312
        },
        "outputId": "84369cfc-2a41-43cf-8a68-0b687c8c5d8f"
      },
      "outputs": [
        {
          "output_type": "execute_result",
          "data": {
            "text/plain": [
              "<matplotlib.legend.Legend at 0x7f389eb5d4c0>"
            ]
          },
          "metadata": {},
          "execution_count": 21
        },
        {
          "output_type": "display_data",
          "data": {
            "text/plain": [
              "<Figure size 432x288 with 1 Axes>"
            ],
            "image/png": "[encoded data removed]"
          },
          "metadata": {
            "needs_background": "light"
          }
        }
      ],
      "source": [
        "plt.plot(ModelData.history['loss'])\n",
        "plt.plot(ModelData.history['val_loss'])\n",
        "plt.title('loss')\n",
        "plt.xlabel('epochs')\n",
        "plt.ylabel('loss')\n",
        "plt.legend(['train','test'],loc='lower right')"
      ]
    },
    {
      "cell_type": "markdown",
      "source": [
        "#### In order to process the test the test images to the same dimensions as of training data we map each image to preprocess function and set mode to evaluate so as not to augment images."
      ],
      "metadata": {
        "id": "T5W7sbreRap_"
      }
    },
    {
      "cell_type": "code",
      "execution_count": null,
      "metadata": {
        "id": "CNveTrFFfgvy"
      },
      "outputs": [],
      "source": [
        "ds_test = ds_test_images_labels.map(lambda x,y : preprocess(x,y, size=IMAGE_SIZE, mode='eval'))\n",
        "ds_test=ds_test.batch(BATCH_SIZE)"
      ]
    },
    {
      "cell_type": "markdown",
      "source": [
        "### Test accuracy and loss"
      ],
      "metadata": {
        "id": "H8mnpedWRnQv"
      }
    },
    {
      "cell_type": "code",
      "execution_count": null,
      "metadata": {
        "id": "dmkO6Z35fDlq",
        "colab": {
          "base_uri": "https://localhost:8080/"
        },
        "outputId": "caf75021-0025-4021-cbac-5c71555c715a"
      },
      "outputs": [
        {
          "output_type": "stream",
          "name": "stdout",
          "text": [
            "157/157 [==============================] - 1s 6ms/step - loss: 0.3095 - accuracy: 0.8840\n",
            "The model accuracy on test is 0.8840000033378601 and the loss is 0.309476763010025\n"
          ]
        }
      ],
      "source": [
        "test_result=model.evaluate(ds_test)\n",
        "print(\"The model accuracy on test is {} and the loss is {}\".format(test_result[1],test_result[0]))"
      ]
    },
    {
      "cell_type": "markdown",
      "source": [
        "### To print the classification report we unbatch the tensor batch dataset and take 10000 test images. We iterate through the next 10000 images"
      ],
      "metadata": {
        "id": "LRvfDwKASnMt"
      }
    },
    {
      "cell_type": "code",
      "execution_count": null,
      "metadata": {
        "id": "yddxqflYkRR-"
      },
      "outputs": [],
      "source": [
        "test_data=ds_test.unbatch().take(10000)\n",
        "test_images_labels=next(iter(test_data.batch(10000)))\n",
        "for i in test_data:\n",
        "  print(i[1])"
      ]
    },
    {
      "cell_type": "markdown",
      "source": [
        "### The predicted logits array of 10 classes are obtained from the test set"
      ],
      "metadata": {
        "id": "CDBmo715S3EU"
      }
    },
    {
      "cell_type": "code",
      "execution_count": null,
      "metadata": {
        "id": "uppva4Yrw8Ei",
        "colab": {
          "base_uri": "https://localhost:8080/"
        },
        "outputId": "a5bbd34d-2089-42f6-ea65-f0108496b290"
      },
      "outputs": [
        {
          "output_type": "stream",
          "name": "stdout",
          "text": [
            "313/313 [==============================] - 1s 3ms/step\n"
          ]
        }
      ],
      "source": [
        "preds_logits=model.predict(test_images_labels[0])"
      ]
    },
    {
      "cell_type": "markdown",
      "source": [
        "### The probabilities of each class is obtained by passing the predicted logits array through softmax function. It results in a probability tensor matrix. Next, we choose the probability of class which is the maximum in each row (ie image) as the predicted class. The predicted classes are fed into a list."
      ],
      "metadata": {
        "id": "9Ukzoe20TDhy"
      }
    },
    {
      "cell_type": "code",
      "execution_count": null,
      "metadata": {
        "id": "q8a06q3ZyOpe"
      },
      "outputs": [],
      "source": [
        "probs=tf.nn.softmax(preds_logits)\n",
        "pred_classes=tf.argmax(probs,axis=1)\n",
        "pred_classes_list=[]\n",
        "for i in pred_classes:\n",
        "  pred_classes_list.append(i.numpy())"
      ]
    },
    {
      "cell_type": "markdown",
      "source": [
        "### We obtain precision of 88 percent, ie, of all images classified as a particular class 88 perent truly belong to that class. Of all images 88 percent were classified as the target class. Weighted F1 score is 88 percent."
      ],
      "metadata": {
        "id": "Z6hCF4yQUVUc"
      }
    },
    {
      "cell_type": "code",
      "source": [
        "from sklearn.metrics import classification_report\n",
        "print(classification_report(test_images_labels[1],pred_classes_list))"
      ],
      "metadata": {
        "colab": {
          "base_uri": "https://localhost:8080/"
        },
        "id": "FIwX1Y4z8PEI",
        "outputId": "cee4af2a-f5d8-4d86-afd4-5c6f202f97b1"
      },
      "execution_count": null,
      "outputs": [
        {
          "output_type": "stream",
          "name": "stdout",
          "text": [
            "              precision    recall  f1-score   support\n",
            "\n",
            "         0.0       0.78      0.87      0.82      1000\n",
            "         1.0       0.99      0.99      0.99      1000\n",
            "         2.0       0.79      0.86      0.82      1000\n",
            "         3.0       0.88      0.94      0.91      1000\n",
            "         4.0       0.86      0.75      0.80      1000\n",
            "         5.0       0.99      0.96      0.97      1000\n",
            "         6.0       0.67      0.57      0.62      1000\n",
            "         7.0       0.92      0.97      0.95      1000\n",
            "         8.0       0.99      0.98      0.99      1000\n",
            "         9.0       0.97      0.95      0.96      1000\n",
            "\n",
            "    accuracy                           0.88     10000\n",
            "   macro avg       0.88      0.88      0.88     10000\n",
            "weighted avg       0.88      0.88      0.88     10000\n",
            "\n"
          ]
        }
      ]
    },
    {
      "cell_type": "code",
      "source": [
        "from sklearn.metrics import confusion_matrix\n",
        "print(confusion_matrix(test_images_labels[1],pred_classes_list))"
      ],
      "metadata": {
        "colab": {
          "base_uri": "https://localhost:8080/"
        },
        "id": "qQCNv8tMM9ch",
        "outputId": "8a4234d4-4952-45fc-ef73-43ff94829dab"
      },
      "execution_count": null,
      "outputs": [
        {
          "output_type": "stream",
          "name": "stdout",
          "text": [
            "[[874   0  23  26   4   0  69   0   4   0]\n",
            " [  2 986   1   9   0   1   1   0   0   0]\n",
            " [ 19   0 859  13  44   0  62   0   3   0]\n",
            " [ 18   3   3 941  11   0  24   0   0   0]\n",
            " [  0   1  84  47 751   0 117   0   0   0]\n",
            " [  0   0   0   0   0 957   1  34   1   7]\n",
            " [207   3 115  38  64   0 571   0   2   0]\n",
            " [  0   0   0   0   0   5   0 969   0  26]\n",
            " [  1   0   6   1   1   1   7   0 982   1]\n",
            " [  0   0   0   0   0   2   0  47   1 950]]\n"
          ]
        }
      ]
    },
    {
      "cell_type": "markdown",
      "source": [
        "### We take a batch of 10 test images to be comapred to predicted labels and plot them"
      ],
      "metadata": {
        "id": "5-l_2R0oWRFD"
      }
    },
    {
      "cell_type": "code",
      "source": [
        "test_data=ds_test.unbatch().take(10)\n",
        "test_images_labels=next(iter(test_data.batch(10)))\n",
        "\n",
        "preds_logits=model.predict(test_images_labels[0])\n",
        "probs=tf.nn.softmax(preds_logits)\n",
        "pred_classes=tf.argmax(probs,axis=1)\n",
        "pred_classes_list=[]\n",
        "for i in pred_classes:\n",
        "  pred_classes_list.append(i.numpy())"
      ],
      "metadata": {
        "colab": {
          "base_uri": "https://localhost:8080/"
        },
        "id": "vmH1H5fD9ifu",
        "outputId": "c9cff0e6-bccc-41a8-e052-d0abca467d5b"
      },
      "execution_count": null,
      "outputs": [
        {
          "output_type": "stream",
          "name": "stdout",
          "text": [
            "1/1 [==============================] - 0s 93ms/step\n"
          ]
        }
      ]
    },
    {
      "cell_type": "code",
      "execution_count": null,
      "metadata": {
        "id": "zI-ni9dSqPh7",
        "colab": {
          "base_uri": "https://localhost:8080/",
          "height": 513
        },
        "outputId": "7c7ea7fe-5721-4402-ac5f-9bbe9e0d1322"
      },
      "outputs": [
        {
          "output_type": "display_data",
          "data": {
            "text/plain": [
              "<Figure size 1080x720 with 10 Axes>"
            ],
            "image/png": "[encoded data removed]"
          },
          "metadata": {}
        }
      ],
      "source": [
        "fig = plt.figure(figsize=(15, 10))\n",
        "for index,image in enumerate(test_data):\n",
        "    ax = fig.add_subplot(2, 5, index+1)\n",
        "    ax.set_xticks([])\n",
        "    ax.set_yticks([])\n",
        "    ax.imshow(np.squeeze(image[0]))\n",
        "    category=image[1].numpy()\n",
        "    true_class= classNameslabels[category]\n",
        "    pred_class= classNameslabels[pred_classes_list[index]]\n",
        "    ax.text(6,30,'true_label: {} \\n Pred label: {}'.format(true_class , pred_class), \n",
        "        )\n",
        "    \n",
        "\n",
        "plt.show()"
      ]
    },
    {
      "cell_type": "markdown",
      "metadata": {
        "id": "Oi_Qk1MXEI5E"
      },
      "source": [
        "# Transfer Learning"
      ]
    },
    {
      "cell_type": "markdown",
      "source": [
        "### There are pretrained neural network models available which are state of the art algorithms. They are trained on huge datasets to classify multiple labels. One such pretrained model is the VGG16 which is trained on the imagenet dataset containing 1.3 million images and 1000 classes. \n",
        "### These algorithms are able to extract a lot of important features and assign immensely powerful parameters to the model. In transfer learning we use the patterns learned by these models to extract new features from new images and datasets. The parameters in these models are carefully preserved and hence should not be disturbed. Therefore we freeze and use the convolutional layers of these networks. Moreover, if we unfreeze all the convolutional layers it will lead to a huge amount of parameters and generic representations learned by the model will be lost due to weight updation. Our model will easily overfit and lose the generelisation.\n",
        "\n",
        "### The next step is to remove the final dense layer(which is anyways used to classify 1000 classes) and replace it with a dense classification layer which is randomly initialized to classify our target labels."
      ],
      "metadata": {
        "id": "BeHUJLRqW4Ow"
      }
    },
    {
      "cell_type": "markdown",
      "source": [
        "### A function is created to load and reshape 20000 images and labels from the original training dataset. Due to Memory Constraints the whole training set could not be used there are about 2 million parameters in the transfer learning model."
      ],
      "metadata": {
        "id": "d6fKjzeJZvb_"
      }
    },
    {
      "cell_type": "code",
      "execution_count": null,
      "metadata": {
        "id": "jZgjsW2fRzLQ"
      },
      "outputs": [],
      "source": [
        "image_height=28\n",
        "image_width=28\n",
        "num_classes=10\n",
        "\n",
        "def get_train_data(csv):\n",
        "\n",
        "  fashion_np_array= np.loadtxt(csv, delimiter=',', skiprows=1)\n",
        "  np.random.shuffle(fashion_np_array)\n",
        "\n",
        "  Y=fashion_np_array[0:20000,0]\n",
        "  Y.astype('int32')\n",
        "\n",
        "  X=fashion_np_array[0:20000,1:]\n",
        "\n",
        "  num_images=X.shape[0]\n",
        "\n",
        "  X_reshaped=X.reshape( num_images,image_height, image_width, 1)\n",
        "\n",
        "  X_reshaped=X_reshaped.repeat(3,axis=3)                                # The final dimension of image array is repeated and duplicates created to convert greyscale image to RGB coloured\n",
        "  return X_reshaped, Y                                                  # as the pretrained model only accepts images with three channels"
      ]
    },
    {
      "cell_type": "markdown",
      "source": [],
      "metadata": {
        "id": "T_AyiSwObWAC"
      }
    },
    {
      "cell_type": "code",
      "execution_count": null,
      "metadata": {
        "id": "An3JjKr-R_5d"
      },
      "outputs": [],
      "source": [
        "train_csv_file_path='/content/fashionmnist/fashion-mnist_train.csv'\n",
        "image_data_full,label_full=get_train_data(train_csv_file_path)"
      ]
    },
    {
      "cell_type": "code",
      "execution_count": null,
      "metadata": {
        "colab": {
          "base_uri": "https://localhost:8080/"
        },
        "id": "DdvvacT9mXey",
        "outputId": "f95679ce-2db6-421f-e0d3-1278ac9c9ada"
      },
      "outputs": [
        {
          "output_type": "execute_result",
          "data": {
            "text/plain": [
              "(20000, 28, 28, 3)"
            ]
          },
          "metadata": {},
          "execution_count": 5
        }
      ],
      "source": [
        "image_data_full.shape"
      ]
    },
    {
      "cell_type": "code",
      "source": [
        "label_full.shape"
      ],
      "metadata": {
        "colab": {
          "base_uri": "https://localhost:8080/"
        },
        "id": "PyoNrxnEbLmG",
        "outputId": "d293cfc0-9812-4904-a132-c42d686c5af0"
      },
      "execution_count": null,
      "outputs": [
        {
          "output_type": "execute_result",
          "data": {
            "text/plain": [
              "(20000,)"
            ]
          },
          "metadata": {},
          "execution_count": 6
        }
      ]
    },
    {
      "cell_type": "code",
      "source": [
        "def get_test_data(csv):\n",
        "\n",
        "  fashion_np_array=np.loadtxt(csv, delimiter=',', skiprows=1)\n",
        "\n",
        "  Y=fashion_np_array[:,0]\n",
        "  Y.astype('int32')\n",
        "\n",
        "  X=fashion_np_array[:,1:]\n",
        "\n",
        "  num_images=X.shape[0]\n",
        "\n",
        "  X_reshaped=X.reshape( num_images,image_height, image_width, 1)\n",
        "\n",
        "  X_reshaped=X_reshaped.repeat(3,axis=3)\n",
        "  return X_reshaped, Y"
      ],
      "metadata": {
        "id": "WS_HTLw4amoi"
      },
      "execution_count": null,
      "outputs": []
    },
    {
      "cell_type": "code",
      "execution_count": null,
      "metadata": {
        "id": "LUwcFYLGSGD8"
      },
      "outputs": [],
      "source": [
        "test_csv_file_path='/content/fashionmnist/fashion-mnist_test.csv'\n",
        "test_data_full,test_label_full=get_test_data(test_csv_file_path)"
      ]
    },
    {
      "cell_type": "code",
      "source": [
        "test_data_full.shape"
      ],
      "metadata": {
        "colab": {
          "base_uri": "https://localhost:8080/"
        },
        "id": "rr4suo_0e37O",
        "outputId": "ec3bf674-c568-4ce6-84fa-bd4b94950688"
      },
      "execution_count": null,
      "outputs": [
        {
          "output_type": "execute_result",
          "data": {
            "text/plain": [
              "(10000, 28, 28, 3)"
            ]
          },
          "metadata": {},
          "execution_count": 9
        }
      ]
    },
    {
      "cell_type": "markdown",
      "source": [
        "### dataset is splitted to train and validatiom sets"
      ],
      "metadata": {
        "id": "oFNNGV5hbkhz"
      }
    },
    {
      "cell_type": "code",
      "execution_count": null,
      "metadata": {
        "id": "bkRzy95ISMvg"
      },
      "outputs": [],
      "source": [
        "x_train, x_val, y_train, y_val = tts(image_data_full,label_full,test_size=0.2,\n",
        "                                                    random_state=42)"
      ]
    },
    {
      "cell_type": "code",
      "source": [
        "x_train.shape"
      ],
      "metadata": {
        "colab": {
          "base_uri": "https://localhost:8080/"
        },
        "id": "EdLxgtqJbWaZ",
        "outputId": "177a564a-34b8-46d4-b0bd-bcd078dcb1b7"
      },
      "execution_count": null,
      "outputs": [
        {
          "output_type": "execute_result",
          "data": {
            "text/plain": [
              "(16000, 28, 28, 3)"
            ]
          },
          "metadata": {},
          "execution_count": 11
        }
      ]
    },
    {
      "cell_type": "code",
      "source": [
        "x_val.shape"
      ],
      "metadata": {
        "colab": {
          "base_uri": "https://localhost:8080/"
        },
        "id": "Z1fgaw44135Z",
        "outputId": "1be51089-4d2a-4c53-829d-821843169db4"
      },
      "execution_count": null,
      "outputs": [
        {
          "output_type": "execute_result",
          "data": {
            "text/plain": [
              "(4000, 28, 28, 3)"
            ]
          },
          "metadata": {},
          "execution_count": 12
        }
      ]
    },
    {
      "cell_type": "code",
      "execution_count": null,
      "metadata": {
        "id": "FCM77MeDSViY"
      },
      "outputs": [],
      "source": [
        "ds_train_images_labels=tf.data.Dataset.from_tensor_slices((x_train,y_train))\n",
        "ds_val_images_labels=tf.data.Dataset.from_tensor_slices((x_val,y_val))\n",
        "ds_test_images_labels=tf.data.Dataset.from_tensor_slices((test_data_full,test_label_full))"
      ]
    },
    {
      "cell_type": "markdown",
      "source": [
        "### Data Augmentation Pipeline"
      ],
      "metadata": {
        "id": "Rn4TCB6maMJH"
      }
    },
    {
      "cell_type": "code",
      "execution_count": null,
      "metadata": {
        "id": "yVwI1uefEL7U"
      },
      "outputs": [],
      "source": [
        "def preprocess(image_data, label, target_height=24, target_width= 28, mode='train'):\n",
        "\n",
        "    if mode == 'train':\n",
        "\n",
        "        image_cropped = tf.image.random_crop(\n",
        "            image_data, size=(24, 28, 3))\n",
        "        \n",
        "        image_resized = tf.image.resize_with_pad(image_cropped, target_height=target_height, target_width=target_width)\n",
        "                                                 \n",
        "                                                  \n",
        "        \n",
        "        image_flip = tf.image.random_flip_left_right(image_resized)\n",
        "        \n",
        "        return (image_flip, label)\n",
        "    \n",
        "    else:\n",
        "\n",
        "        image_cropped = tf.image.crop_to_bounding_box(image_data, offset_height=2, offset_width=0,\n",
        "                                                      target_height=24, target_width=28)\n",
        "        \n",
        "        image_resized = tf.image.resize_with_pad(image_cropped, target_height=target_height, target_width=target_width)\n",
        "                                                 \n",
        "        \n",
        "        return image_resized,label"
      ]
    },
    {
      "cell_type": "markdown",
      "source": [
        "### Augmented images are plotted"
      ],
      "metadata": {
        "id": "Im7RccqwdiGz"
      }
    },
    {
      "cell_type": "code",
      "execution_count": null,
      "metadata": {
        "colab": {
          "base_uri": "https://localhost:8080/",
          "height": 357
        },
        "id": "81nKR9FnEXXf",
        "outputId": "56b5f482-2c91-40c0-e60e-b95fa426b826"
      },
      "outputs": [
        {
          "output_type": "display_data",
          "data": {
            "text/plain": [
              "<Figure size 1080x432 with 10 Axes>"
            ],
            "image/png": "[encoded data removed]"
          },
          "metadata": {}
        }
      ],
      "source": [
        "tf.random.set_seed(1)\n",
        "\n",
        "ds = ds_train_images_labels.shuffle(1000, reshuffle_each_iteration=False)\n",
        "ds = ds.take(2).repeat(5)\n",
        "\n",
        "ds = ds.map(lambda x,y : preprocess(x,y, target_height=150, target_width=150, mode='train'))\n",
        "\n",
        "fig = plt.figure(figsize=(15, 6))\n",
        "\n",
        "for j,example in enumerate(ds):\n",
        "    ax = fig.add_subplot(2, 5, j//2+(j%2)*5+1)\n",
        "    ax.set_xticks([])\n",
        "    ax.set_yticks([])\n",
        "    ax.imshow(np.squeeze(example[0]/255))\n",
        "    \n",
        "\n",
        "plt.show()"
      ]
    },
    {
      "cell_type": "markdown",
      "source": [
        "### Batch datasets are created from train and validation datasets to feed into model. Target size is taken 150 * 150 as pretrained model only accpts images atleast of this dimension"
      ],
      "metadata": {
        "id": "NpcMmObUbsG2"
      }
    },
    {
      "cell_type": "code",
      "execution_count": null,
      "metadata": {
        "id": "K6nMpfKqEbyT"
      },
      "outputs": [],
      "source": [
        "BATCH_SIZE = 64\n",
        "BUFFER_SIZE = 10000\n",
        "\n",
        "\n",
        "\n",
        "ds_train = ds_train_images_labels.map(lambda x,y : preprocess(x,y, target_height=150, target_width=150, mode='train'))        \n",
        "\n",
        "ds_train = ds_train.shuffle(buffer_size=BUFFER_SIZE)\n",
        "\n",
        "ds_train = ds_train.batch(BATCH_SIZE)\n",
        "\n",
        "ds_val = ds_val_images_labels.map(lambda x,y : preprocess(x,y, target_height=150, target_width=150, mode='eval'))\n",
        "\n",
        "ds_val = ds_val.batch(BATCH_SIZE)"
      ]
    },
    {
      "cell_type": "code",
      "execution_count": null,
      "metadata": {
        "id": "gw2uTyZwSr2r"
      },
      "outputs": [],
      "source": [
        "AUTOTUNE = tf.data.AUTOTUNE\n",
        "\n",
        "ds_train = ds_train.cache().prefetch(buffer_size=AUTOTUNE)\n",
        "ds_val = ds_val.cache().prefetch(buffer_size=AUTOTUNE)"
      ]
    },
    {
      "cell_type": "markdown",
      "source": [
        "### The VGG16 pretrained model trained on imagenet database is imported and a base model created. We don't include the final top dense layer as  we have to classify only 10 labels."
      ],
      "metadata": {
        "id": "e0ORR_lpb-jy"
      }
    },
    {
      "cell_type": "code",
      "source": [
        "from keras.applications import VGG16\n",
        "base_model = VGG16(weights='imagenet',\n",
        "include_top=False,\n",
        "input_shape=(150, 150, 3))"
      ],
      "metadata": {
        "id": "om8VgRNIDscb"
      },
      "execution_count": null,
      "outputs": []
    },
    {
      "cell_type": "markdown",
      "source": [
        "### A summary of base model is obtained with a total of 14,714,688 parameters."
      ],
      "metadata": {
        "id": "ni-Zn1F6cqy1"
      }
    },
    {
      "cell_type": "code",
      "source": [
        "base_model.summary()"
      ],
      "metadata": {
        "colab": {
          "base_uri": "https://localhost:8080/"
        },
        "id": "swaHvGRRD3N3",
        "outputId": "06c08757-c479-4fad-f020-1564a323917c"
      },
      "execution_count": null,
      "outputs": [
        {
          "output_type": "stream",
          "name": "stdout",
          "text": [
            "Model: \"vgg16\"\n",
            "_________________________________________________________________\n",
            " Layer (type)                Output Shape              Param #   \n",
            "=================================================================\n",
            " input_1 (InputLayer)        [(None, 150, 150, 3)]     0         \n",
            "                                                                 \n",
            " block1_conv1 (Conv2D)       (None, 150, 150, 64)      1792      \n",
            "                                                                 \n",
            " block1_conv2 (Conv2D)       (None, 150, 150, 64)      36928     \n",
            "                                                                 \n",
            " block1_pool (MaxPooling2D)  (None, 75, 75, 64)        0         \n",
            "                                                                 \n",
            " block2_conv1 (Conv2D)       (None, 75, 75, 128)       73856     \n",
            "                                                                 \n",
            " block2_conv2 (Conv2D)       (None, 75, 75, 128)       147584    \n",
            "                                                                 \n",
            " block2_pool (MaxPooling2D)  (None, 37, 37, 128)       0         \n",
            "                                                                 \n",
            " block3_conv1 (Conv2D)       (None, 37, 37, 256)       295168    \n",
            "                                                                 \n",
            " block3_conv2 (Conv2D)       (None, 37, 37, 256)       590080    \n",
            "                                                                 \n",
            " block3_conv3 (Conv2D)       (None, 37, 37, 256)       590080    \n",
            "                                                                 \n",
            " block3_pool (MaxPooling2D)  (None, 18, 18, 256)       0         \n",
            "                                                                 \n",
            " block4_conv1 (Conv2D)       (None, 18, 18, 512)       1180160   \n",
            "                                                                 \n",
            " block4_conv2 (Conv2D)       (None, 18, 18, 512)       2359808   \n",
            "                                                                 \n",
            " block4_conv3 (Conv2D)       (None, 18, 18, 512)       2359808   \n",
            "                                                                 \n",
            " block4_pool (MaxPooling2D)  (None, 9, 9, 512)         0         \n",
            "                                                                 \n",
            " block5_conv1 (Conv2D)       (None, 9, 9, 512)         2359808   \n",
            "                                                                 \n",
            " block5_conv2 (Conv2D)       (None, 9, 9, 512)         2359808   \n",
            "                                                                 \n",
            " block5_conv3 (Conv2D)       (None, 9, 9, 512)         2359808   \n",
            "                                                                 \n",
            " block5_pool (MaxPooling2D)  (None, 4, 4, 512)         0         \n",
            "                                                                 \n",
            "=================================================================\n",
            "Total params: 14,714,688\n",
            "Trainable params: 14,714,688\n",
            "Non-trainable params: 0\n",
            "_________________________________________________________________\n"
          ]
        }
      ]
    },
    {
      "cell_type": "markdown",
      "source": [
        "### The total convolutional network is created with an input layer of size 150 * 150 * 3. We add a rescaling layer to rescale the image array into a uniform range of 0 to 1. "
      ],
      "metadata": {
        "id": "sH4_flCZcyLB"
      }
    },
    {
      "cell_type": "code",
      "source": [
        "from keras import models\n",
        "\n",
        "input= keras.Input(shape=(150, 150, 3))\n",
        "rescaler_layer= keras.layers.Rescaling(scale=1. / 255)\n",
        "\n",
        "model_transfer_learn =models.Sequential()\n",
        "\n",
        "model_transfer_learn.add(input)\n",
        "model_transfer_learn.add(rescaler_layer)\n",
        "model_transfer_learn.add(base_model)                                                                # Base pretrained model is added\n",
        "model_transfer_learn.add(layers.Flatten())                                                          # Feature matrix is flattened into one dimensional array\n",
        "model_transfer_learn.add(layers.Dropout(rate=0.5))                                                  # Dropout layer is added with a rate of 50 percent to introduce regularisation and prevent overfitting\n",
        "model_transfer_learn.add(layers.Dense(10))                                                          # final dense layer is added to classify 10 classes"
      ],
      "metadata": {
        "id": "tT_2f02bEFjN"
      },
      "execution_count": null,
      "outputs": []
    },
    {
      "cell_type": "code",
      "source": [
        "base_model.trainable=False"
      ],
      "metadata": {
        "id": "nwRXJtFXFHdG"
      },
      "execution_count": null,
      "outputs": []
    },
    {
      "cell_type": "markdown",
      "source": [
        "### A summary of total model is obtained"
      ],
      "metadata": {
        "id": "RcMfgpDUhjTj"
      }
    },
    {
      "cell_type": "code",
      "source": [
        "model_transfer_learn.summary()"
      ],
      "metadata": {
        "colab": {
          "base_uri": "https://localhost:8080/"
        },
        "id": "Mbz1b0sCE8fa",
        "outputId": "50003d9b-e5f7-412d-818d-b2839107a335"
      },
      "execution_count": null,
      "outputs": [
        {
          "output_type": "stream",
          "name": "stdout",
          "text": [
            "Model: \"sequential_1\"\n",
            "_________________________________________________________________\n",
            " Layer (type)                Output Shape              Param #   \n",
            "=================================================================\n",
            " rescaling (Rescaling)       (None, 150, 150, 3)       0         \n",
            "                                                                 \n",
            " vgg16 (Functional)          (None, 4, 4, 512)         14714688  \n",
            "                                                                 \n",
            " flatten_1 (Flatten)         (None, 8192)              0         \n",
            "                                                                 \n",
            " dropout_3 (Dropout)         (None, 8192)              0         \n",
            "                                                                 \n",
            " dense_1 (Dense)             (None, 10)                81930     \n",
            "                                                                 \n",
            "=================================================================\n",
            "Total params: 14,796,618\n",
            "Trainable params: 81,930\n",
            "Non-trainable params: 14,714,688\n",
            "_________________________________________________________________\n"
          ]
        }
      ]
    },
    {
      "cell_type": "markdown",
      "source": [
        "### Model is compiled with Adam optimizer and loss sparse categorical Cross entropy"
      ],
      "metadata": {
        "id": "l3ltXh1VhvSS"
      }
    },
    {
      "cell_type": "code",
      "execution_count": null,
      "metadata": {
        "id": "cKML5R2ja-l2"
      },
      "outputs": [],
      "source": [
        "model_transfer_learn.compile(optimizer = keras.optimizers.Adam(),\n",
        "             loss = keras.losses.SparseCategoricalCrossentropy(from_logits=True),\n",
        "             metrics = ['accuracy'])"
      ]
    },
    {
      "cell_type": "code",
      "execution_count": null,
      "metadata": {
        "colab": {
          "base_uri": "https://localhost:8080/"
        },
        "id": "XfmR8mDibGOS",
        "outputId": "ba00873f-6e52-4a13-906a-630647c1cace"
      },
      "outputs": [
        {
          "output_type": "stream",
          "name": "stdout",
          "text": [
            "250.0\n"
          ]
        }
      ],
      "source": [
        "steps_per_epoch = np.ceil(16000/BATCH_SIZE)\n",
        "print(steps_per_epoch)"
      ]
    },
    {
      "cell_type": "markdown",
      "source": [
        "### the model is fitted and trained"
      ],
      "metadata": {
        "id": "73zrVEWah3Im"
      }
    },
    {
      "cell_type": "code",
      "execution_count": null,
      "metadata": {
        "colab": {
          "base_uri": "https://localhost:8080/"
        },
        "id": "EOU20GXebN8P",
        "outputId": "7ebffafc-c043-40f5-9cdd-2500ff619353"
      },
      "outputs": [
        {
          "output_type": "stream",
          "name": "stdout",
          "text": [
            "Epoch 1/20\n",
            "250/250 [==============================] - 61s 216ms/step - loss: 0.6960 - accuracy: 0.7475 - val_loss: 0.4628 - val_accuracy: 0.8290\n",
            "Epoch 2/20\n",
            "250/250 [==============================] - 49s 198ms/step - loss: 0.4699 - accuracy: 0.8273 - val_loss: 0.4287 - val_accuracy: 0.8420\n",
            "Epoch 3/20\n",
            "250/250 [==============================] - 50s 199ms/step - loss: 0.4149 - accuracy: 0.8473 - val_loss: 0.4108 - val_accuracy: 0.8482\n",
            "Epoch 4/20\n",
            "250/250 [==============================] - 49s 196ms/step - loss: 0.3912 - accuracy: 0.8543 - val_loss: 0.3982 - val_accuracy: 0.8485\n",
            "Epoch 5/20\n",
            "250/250 [==============================] - 50s 200ms/step - loss: 0.3685 - accuracy: 0.8624 - val_loss: 0.3950 - val_accuracy: 0.8503\n",
            "Epoch 6/20\n",
            "250/250 [==============================] - 49s 196ms/step - loss: 0.3469 - accuracy: 0.8708 - val_loss: 0.3914 - val_accuracy: 0.8533\n",
            "Epoch 7/20\n",
            "250/250 [==============================] - 49s 198ms/step - loss: 0.3388 - accuracy: 0.8733 - val_loss: 0.3857 - val_accuracy: 0.8550\n",
            "Epoch 8/20\n",
            "250/250 [==============================] - 50s 199ms/step - loss: 0.3311 - accuracy: 0.8731 - val_loss: 0.3863 - val_accuracy: 0.8562\n",
            "Epoch 9/20\n",
            "250/250 [==============================] - 50s 199ms/step - loss: 0.3215 - accuracy: 0.8759 - val_loss: 0.3899 - val_accuracy: 0.8558\n",
            "Epoch 10/20\n",
            "250/250 [==============================] - 49s 196ms/step - loss: 0.3121 - accuracy: 0.8817 - val_loss: 0.3843 - val_accuracy: 0.8595\n",
            "Epoch 11/20\n",
            "250/250 [==============================] - 50s 199ms/step - loss: 0.3113 - accuracy: 0.8799 - val_loss: 0.3769 - val_accuracy: 0.8650\n",
            "Epoch 12/20\n",
            "250/250 [==============================] - 49s 196ms/step - loss: 0.3086 - accuracy: 0.8820 - val_loss: 0.3889 - val_accuracy: 0.8593\n",
            "Epoch 13/20\n",
            "250/250 [==============================] - 50s 199ms/step - loss: 0.2974 - accuracy: 0.8873 - val_loss: 0.3946 - val_accuracy: 0.8560\n",
            "Epoch 14/20\n",
            "250/250 [==============================] - 50s 198ms/step - loss: 0.2934 - accuracy: 0.8914 - val_loss: 0.3897 - val_accuracy: 0.8655\n",
            "Epoch 15/20\n",
            "250/250 [==============================] - 49s 196ms/step - loss: 0.2918 - accuracy: 0.8913 - val_loss: 0.3961 - val_accuracy: 0.8595\n",
            "Epoch 16/20\n",
            "250/250 [==============================] - 49s 197ms/step - loss: 0.2879 - accuracy: 0.8908 - val_loss: 0.4058 - val_accuracy: 0.8565\n",
            "Epoch 17/20\n",
            "250/250 [==============================] - 49s 198ms/step - loss: 0.2884 - accuracy: 0.8906 - val_loss: 0.3954 - val_accuracy: 0.8615\n",
            "Epoch 18/20\n",
            "250/250 [==============================] - 49s 197ms/step - loss: 0.2762 - accuracy: 0.8950 - val_loss: 0.3962 - val_accuracy: 0.8610\n",
            "Epoch 19/20\n",
            "250/250 [==============================] - 50s 199ms/step - loss: 0.2771 - accuracy: 0.8940 - val_loss: 0.3947 - val_accuracy: 0.8618\n",
            "Epoch 20/20\n",
            "250/250 [==============================] - 50s 199ms/step - loss: 0.2771 - accuracy: 0.8943 - val_loss: 0.3833 - val_accuracy: 0.8692\n"
          ]
        }
      ],
      "source": [
        "with tf.device('/device:GPU:0'):\n",
        "        model_history = model_transfer_learn.fit(ds_train,\n",
        "                                                 validation_data=ds_val,\n",
        "                                                 steps_per_epoch=steps_per_epoch,\n",
        "                                                 epochs = 20, shuffle=True)"
      ]
    },
    {
      "cell_type": "markdown",
      "source": [
        "### Plot of training and validation accuracy"
      ],
      "metadata": {
        "id": "A4brgQu5h7bE"
      }
    },
    {
      "cell_type": "code",
      "source": [
        "plt.plot(model_history.history['accuracy'])\n",
        "plt.plot(model_history.history['val_accuracy'])\n",
        "plt.title('Accuracy')\n",
        "plt.xlabel('epochs')\n",
        "plt.ylabel('accuracy')\n",
        "plt.legend(['train','test'],loc='lower right')"
      ],
      "metadata": {
        "colab": {
          "base_uri": "https://localhost:8080/",
          "height": 312
        },
        "id": "bYfjFfbpkjly",
        "outputId": "8ce7d32b-3aa2-4d36-d045-4f98e42fa793"
      },
      "execution_count": null,
      "outputs": [
        {
          "output_type": "execute_result",
          "data": {
            "text/plain": [
              "<matplotlib.legend.Legend at 0x7f462792a8e0>"
            ]
          },
          "metadata": {},
          "execution_count": 63
        },
        {
          "output_type": "display_data",
          "data": {
            "text/plain": [
              "<Figure size 432x288 with 1 Axes>"
            ],
            "image/png": "[encoded data removed]"
          },
          "metadata": {
            "needs_background": "light"
          }
        }
      ]
    },
    {
      "cell_type": "code",
      "source": [
        "### Plot of training and validation loss"
      ],
      "metadata": {
        "id": "Q-SrsIXBiBt5"
      },
      "execution_count": null,
      "outputs": []
    },
    {
      "cell_type": "code",
      "source": [
        "plt.plot(model_history.history['loss'])\n",
        "plt.plot(model_history.history['val_loss'])\n",
        "plt.title('loss')\n",
        "plt.xlabel('epochs')\n",
        "plt.ylabel('loss')\n",
        "plt.legend(['train','test'],loc='lower right')"
      ],
      "metadata": {
        "colab": {
          "base_uri": "https://localhost:8080/",
          "height": 312
        },
        "id": "CutJ8Zm4kpjG",
        "outputId": "1a0bd777-d6f0-4d0e-a78f-c3b901981172"
      },
      "execution_count": null,
      "outputs": [
        {
          "output_type": "execute_result",
          "data": {
            "text/plain": [
              "<matplotlib.legend.Legend at 0x7f462163ce80>"
            ]
          },
          "metadata": {},
          "execution_count": 65
        },
        {
          "output_type": "display_data",
          "data": {
            "text/plain": [
              "<Figure size 432x288 with 1 Axes>"
            ],
            "image/png": "[encoded data removed]"
          },
          "metadata": {
            "needs_background": "light"
          }
        }
      ]
    },
    {
      "cell_type": "code",
      "source": [
        "ds_test = ds_test_images_labels.map(lambda x,y : preprocess(x,y, target_height=150, target_width=150, mode='eval'))\n",
        "ds_test=ds_test.batch(BATCH_SIZE)"
      ],
      "metadata": {
        "id": "3I5Asm5ok9QA"
      },
      "execution_count": null,
      "outputs": []
    },
    {
      "cell_type": "markdown",
      "source": [
        "### Model accuracy and loss on Test data is obtained"
      ],
      "metadata": {
        "id": "0cmhTkt5iELr"
      }
    },
    {
      "cell_type": "code",
      "source": [
        "test_result=model_transfer_learn.evaluate(ds_test)\n",
        "print(\"The model accuracy on test is {} and the loss is {}\".format(test_result[1],test_result[0]))"
      ],
      "metadata": {
        "colab": {
          "base_uri": "https://localhost:8080/"
        },
        "id": "sivP1VEklP65",
        "outputId": "7099827b-dfb1-42e4-bced-285191c695a9"
      },
      "execution_count": null,
      "outputs": [
        {
          "output_type": "stream",
          "name": "stdout",
          "text": [
            "157/157 [==============================] - 25s 160ms/step - loss: 0.3490 - accuracy: 0.8806\n",
            "The model accuracy on test is 0.8805999755859375 and the loss is 0.34900495409965515\n"
          ]
        }
      ]
    },
    {
      "cell_type": "code",
      "source": [
        "test_data=ds_test.unbatch().take(10)\n",
        "test_images_labels=next(iter(test_data.batch(10)))"
      ],
      "metadata": {
        "id": "_ORZOC4mYxn0"
      },
      "execution_count": null,
      "outputs": []
    },
    {
      "cell_type": "code",
      "source": [
        "preds_logits=model_transfer_learn.predict(test_images_labels[0])"
      ],
      "metadata": {
        "colab": {
          "base_uri": "https://localhost:8080/"
        },
        "id": "_fM5GVk6Y2nL",
        "outputId": "9d623a0f-87b9-4eac-856e-be8f4ded27fe"
      },
      "execution_count": null,
      "outputs": [
        {
          "output_type": "stream",
          "name": "stdout",
          "text": [
            "1/1 [==============================] - 1s 1s/step\n"
          ]
        }
      ]
    },
    {
      "cell_type": "code",
      "source": [
        "probs=tf.nn.softmax(preds_logits)\n",
        "pred_classes=tf.argmax(probs,axis=1)\n",
        "pred_classes_list=[]\n",
        "for i in pred_classes:\n",
        "  pred_classes_list.append(i.numpy())"
      ],
      "metadata": {
        "id": "ig32LBHdbj3G"
      },
      "execution_count": null,
      "outputs": []
    },
    {
      "cell_type": "code",
      "source": [
        "fig = plt.figure(figsize=(15, 10))\n",
        "for index,image in enumerate(test_data):\n",
        "    ax = fig.add_subplot(2, 5, index+1)\n",
        "    ax.set_xticks([])\n",
        "    ax.set_yticks([])\n",
        "    ax.imshow((image[0])/255)\n",
        "    category=image[1].numpy()\n",
        "    true_class= classNameslabels[category]\n",
        "    pred_class= classNameslabels[pred_classes_list[index]]\n",
        "    ax.text(6,180,'true_label: {} \\n Pred label: {}'.format(true_class , pred_class), \n",
        "        )\n",
        "    \n",
        "\n",
        "plt.show()"
      ],
      "metadata": {
        "colab": {
          "base_uri": "https://localhost:8080/",
          "height": 503
        },
        "id": "3-dncokMY7Ep",
        "outputId": "fd6993fc-97b8-4233-cd8a-e73e4b2d4951"
      },
      "execution_count": null,
      "outputs": [
        {
          "output_type": "display_data",
          "data": {
            "text/plain": [
              "<Figure size 1080x720 with 10 Axes>"
            ],
            "image/png": "[encoded data removed]"
          },
          "metadata": {}
        }
      ]
    },
    {
      "cell_type": "markdown",
      "source": [
        "### Now we fine tune the total convolutional model by unfreezing the final covolutional block,ie final 4 layers."
      ],
      "metadata": {
        "id": "WHQc0Mnziq6y"
      }
    },
    {
      "cell_type": "code",
      "source": [
        "base_model.trainable = True                                       # We unfreeze the pretrain model\n",
        "set_layer_trainable = False\n",
        "for layer in base_model.layers:\n",
        "    if layer.name == 'block5_conv1':                              # If layer name is block 5_conv1 then the parameter set_layer is set to True which will unbreeze the subsequent layerrs\n",
        "        set_layer_trainable = True\n",
        "    if set_layer_trainable:\n",
        "        layer.trainable = True\n",
        "    else:\n",
        "        layer.trainable = False"
      ],
      "metadata": {
        "id": "uzbypukq0KOb"
      },
      "execution_count": null,
      "outputs": []
    },
    {
      "cell_type": "code",
      "source": [
        "base_model.summary()"
      ],
      "metadata": {
        "colab": {
          "base_uri": "https://localhost:8080/"
        },
        "id": "lfT-PjawxwHM",
        "outputId": "ff51f9a9-be26-4741-d73e-2eb6c1e11e7b"
      },
      "execution_count": null,
      "outputs": [
        {
          "output_type": "stream",
          "name": "stdout",
          "text": [
            "Model: \"vgg16\"\n",
            "_________________________________________________________________\n",
            " Layer (type)                Output Shape              Param #   \n",
            "=================================================================\n",
            " input_1 (InputLayer)        [(None, 150, 150, 3)]     0         \n",
            "                                                                 \n",
            " block1_conv1 (Conv2D)       (None, 150, 150, 64)      1792      \n",
            "                                                                 \n",
            " block1_conv2 (Conv2D)       (None, 150, 150, 64)      36928     \n",
            "                                                                 \n",
            " block1_pool (MaxPooling2D)  (None, 75, 75, 64)        0         \n",
            "                                                                 \n",
            " block2_conv1 (Conv2D)       (None, 75, 75, 128)       73856     \n",
            "                                                                 \n",
            " block2_conv2 (Conv2D)       (None, 75, 75, 128)       147584    \n",
            "                                                                 \n",
            " block2_pool (MaxPooling2D)  (None, 37, 37, 128)       0         \n",
            "                                                                 \n",
            " block3_conv1 (Conv2D)       (None, 37, 37, 256)       295168    \n",
            "                                                                 \n",
            " block3_conv2 (Conv2D)       (None, 37, 37, 256)       590080    \n",
            "                                                                 \n",
            " block3_conv3 (Conv2D)       (None, 37, 37, 256)       590080    \n",
            "                                                                 \n",
            " block3_pool (MaxPooling2D)  (None, 18, 18, 256)       0         \n",
            "                                                                 \n",
            " block4_conv1 (Conv2D)       (None, 18, 18, 512)       1180160   \n",
            "                                                                 \n",
            " block4_conv2 (Conv2D)       (None, 18, 18, 512)       2359808   \n",
            "                                                                 \n",
            " block4_conv3 (Conv2D)       (None, 18, 18, 512)       2359808   \n",
            "                                                                 \n",
            " block4_pool (MaxPooling2D)  (None, 9, 9, 512)         0         \n",
            "                                                                 \n",
            " block5_conv1 (Conv2D)       (None, 9, 9, 512)         2359808   \n",
            "                                                                 \n",
            " block5_conv2 (Conv2D)       (None, 9, 9, 512)         2359808   \n",
            "                                                                 \n",
            " block5_conv3 (Conv2D)       (None, 9, 9, 512)         2359808   \n",
            "                                                                 \n",
            " block5_pool (MaxPooling2D)  (None, 4, 4, 512)         0         \n",
            "                                                                 \n",
            "=================================================================\n",
            "Total params: 14,714,688\n",
            "Trainable params: 7,079,424\n",
            "Non-trainable params: 7,635,264\n",
            "_________________________________________________________________\n"
          ]
        }
      ]
    },
    {
      "cell_type": "code",
      "source": [
        "model_transfer_learn.compile(optimizer = keras.optimizers.Adam(learning_rate=1e-5),\n",
        "             loss = keras.losses.SparseCategoricalCrossentropy(from_logits=True),\n",
        "             metrics = ['accuracy'])"
      ],
      "metadata": {
        "id": "35T-jcPoxPik"
      },
      "execution_count": null,
      "outputs": []
    },
    {
      "cell_type": "code",
      "source": [
        "for layer in base_model.layers:\n",
        "  print(layer.trainable)"
      ],
      "metadata": {
        "colab": {
          "base_uri": "https://localhost:8080/"
        },
        "id": "dSeub_JTzAve",
        "outputId": "86b794d6-ccd5-4f7c-fba8-76dc16e43597"
      },
      "execution_count": null,
      "outputs": [
        {
          "output_type": "stream",
          "name": "stdout",
          "text": [
            "False\n",
            "False\n",
            "False\n",
            "False\n",
            "False\n",
            "False\n",
            "False\n",
            "False\n",
            "False\n",
            "False\n",
            "False\n",
            "False\n",
            "False\n",
            "False\n",
            "False\n",
            "True\n",
            "True\n",
            "True\n",
            "True\n"
          ]
        }
      ]
    },
    {
      "cell_type": "code",
      "source": [
        "model_transfer_learn.summary()"
      ],
      "metadata": {
        "colab": {
          "base_uri": "https://localhost:8080/"
        },
        "id": "n9gbNm7UyqIU",
        "outputId": "f406eb33-d5e4-4ac6-f850-393a11050682"
      },
      "execution_count": null,
      "outputs": [
        {
          "output_type": "stream",
          "name": "stdout",
          "text": [
            "Model: \"sequential_1\"\n",
            "_________________________________________________________________\n",
            " Layer (type)                Output Shape              Param #   \n",
            "=================================================================\n",
            " rescaling (Rescaling)       (None, 150, 150, 3)       0         \n",
            "                                                                 \n",
            " vgg16 (Functional)          (None, 4, 4, 512)         14714688  \n",
            "                                                                 \n",
            " flatten_1 (Flatten)         (None, 8192)              0         \n",
            "                                                                 \n",
            " dropout_3 (Dropout)         (None, 8192)              0         \n",
            "                                                                 \n",
            " dense_1 (Dense)             (None, 10)                81930     \n",
            "                                                                 \n",
            "=================================================================\n",
            "Total params: 14,796,618\n",
            "Trainable params: 7,161,354\n",
            "Non-trainable params: 7,635,264\n",
            "_________________________________________________________________\n"
          ]
        }
      ]
    },
    {
      "cell_type": "code",
      "source": [
        "with tf.device('/device:GPU:0'):\n",
        "        model_history = model_transfer_learn.fit(ds_train,\n",
        "                                                 validation_data=ds_val,\n",
        "                                                 steps_per_epoch=steps_per_epoch,\n",
        "                                                 epochs = 20, shuffle=True)"
      ],
      "metadata": {
        "colab": {
          "base_uri": "https://localhost:8080/"
        },
        "id": "Ae-qyWiJ0max",
        "outputId": "4b36f697-3ed8-42a2-e7ab-29dc305b0bdb"
      },
      "execution_count": null,
      "outputs": [
        {
          "output_type": "stream",
          "name": "stdout",
          "text": [
            "Epoch 1/20\n",
            "250/250 [==============================] - 61s 221ms/step - loss: 0.4109 - accuracy: 0.8528 - val_loss: 0.3254 - val_accuracy: 0.8845\n",
            "Epoch 2/20\n",
            "250/250 [==============================] - 56s 223ms/step - loss: 0.3475 - accuracy: 0.8721 - val_loss: 0.3162 - val_accuracy: 0.8888\n",
            "Epoch 3/20\n",
            "250/250 [==============================] - 55s 219ms/step - loss: 0.3057 - accuracy: 0.8865 - val_loss: 0.3095 - val_accuracy: 0.8923\n",
            "Epoch 4/20\n",
            "250/250 [==============================] - 55s 222ms/step - loss: 0.2681 - accuracy: 0.9021 - val_loss: 0.3053 - val_accuracy: 0.8932\n",
            "Epoch 5/20\n",
            "250/250 [==============================] - 55s 221ms/step - loss: 0.2371 - accuracy: 0.9109 - val_loss: 0.3073 - val_accuracy: 0.8935\n",
            "Epoch 6/20\n",
            "250/250 [==============================] - 55s 221ms/step - loss: 0.2145 - accuracy: 0.9203 - val_loss: 0.3116 - val_accuracy: 0.8928\n",
            "Epoch 7/20\n",
            "250/250 [==============================] - 55s 221ms/step - loss: 0.1927 - accuracy: 0.9278 - val_loss: 0.3040 - val_accuracy: 0.8967\n",
            "Epoch 8/20\n",
            "250/250 [==============================] - 55s 220ms/step - loss: 0.1731 - accuracy: 0.9373 - val_loss: 0.2950 - val_accuracy: 0.9005\n",
            "Epoch 9/20\n",
            "250/250 [==============================] - 55s 221ms/step - loss: 0.1580 - accuracy: 0.9423 - val_loss: 0.3071 - val_accuracy: 0.8955\n",
            "Epoch 10/20\n",
            "250/250 [==============================] - 55s 221ms/step - loss: 0.1438 - accuracy: 0.9499 - val_loss: 0.3038 - val_accuracy: 0.8995\n",
            "Epoch 11/20\n",
            "250/250 [==============================] - 55s 221ms/step - loss: 0.1288 - accuracy: 0.9539 - val_loss: 0.3014 - val_accuracy: 0.9007\n",
            "Epoch 12/20\n",
            "250/250 [==============================] - 55s 221ms/step - loss: 0.1194 - accuracy: 0.9579 - val_loss: 0.3139 - val_accuracy: 0.8947\n",
            "Epoch 13/20\n",
            "250/250 [==============================] - 55s 221ms/step - loss: 0.1078 - accuracy: 0.9636 - val_loss: 0.3135 - val_accuracy: 0.8980\n",
            "Epoch 14/20\n",
            "250/250 [==============================] - 55s 219ms/step - loss: 0.0962 - accuracy: 0.9672 - val_loss: 0.3124 - val_accuracy: 0.9000\n",
            "Epoch 15/20\n",
            "250/250 [==============================] - 55s 221ms/step - loss: 0.0888 - accuracy: 0.9699 - val_loss: 0.3192 - val_accuracy: 0.8985\n",
            "Epoch 16/20\n",
            "250/250 [==============================] - 55s 221ms/step - loss: 0.0804 - accuracy: 0.9742 - val_loss: 0.3217 - val_accuracy: 0.8992\n",
            "Epoch 17/20\n",
            "250/250 [==============================] - 55s 220ms/step - loss: 0.0744 - accuracy: 0.9748 - val_loss: 0.3333 - val_accuracy: 0.8960\n",
            "Epoch 18/20\n",
            "250/250 [==============================] - 55s 221ms/step - loss: 0.0694 - accuracy: 0.9771 - val_loss: 0.3301 - val_accuracy: 0.9025\n",
            "Epoch 19/20\n",
            "250/250 [==============================] - 55s 221ms/step - loss: 0.0644 - accuracy: 0.9798 - val_loss: 0.3567 - val_accuracy: 0.8990\n",
            "Epoch 20/20\n",
            "250/250 [==============================] - 55s 222ms/step - loss: 0.0585 - accuracy: 0.9822 - val_loss: 0.3409 - val_accuracy: 0.8982\n"
          ]
        }
      ]
    },
    {
      "cell_type": "code",
      "source": [
        "plt.plot(model_history.history['accuracy'])\n",
        "plt.plot(model_history.history['val_accuracy'])\n",
        "plt.title('Accuracy')\n",
        "plt.xlabel('epochs')\n",
        "plt.ylabel('accuracy')\n",
        "plt.legend(['train','test'],loc='lower right')"
      ],
      "metadata": {
        "colab": {
          "base_uri": "https://localhost:8080/",
          "height": 312
        },
        "id": "2qjM3JFBhP5g",
        "outputId": "2c023990-2fad-43de-863d-9e58dfb69435"
      },
      "execution_count": null,
      "outputs": [
        {
          "output_type": "execute_result",
          "data": {
            "text/plain": [
              "<matplotlib.legend.Legend at 0x7f44e4980a90>"
            ]
          },
          "metadata": {},
          "execution_count": 129
        },
        {
          "output_type": "display_data",
          "data": {
            "text/plain": [
              "<Figure size 432x288 with 1 Axes>"
            ],
            "image/png": "[encoded data removed]"
          },
          "metadata": {
            "needs_background": "light"
          }
        }
      ]
    },
    {
      "cell_type": "code",
      "source": [
        "plt.plot(model_history.history['loss'])\n",
        "plt.plot(model_history.history['val_loss'])\n",
        "plt.title('loss')\n",
        "plt.xlabel('epochs')\n",
        "plt.ylabel('loss')\n",
        "plt.legend(['train','test'],loc='lower right')"
      ],
      "metadata": {
        "colab": {
          "base_uri": "https://localhost:8080/",
          "height": 312
        },
        "id": "5MD2wCV-hVXb",
        "outputId": "0a0dd367-72bd-4c6d-a5f1-5f0a1f9f8c8e"
      },
      "execution_count": null,
      "outputs": [
        {
          "output_type": "execute_result",
          "data": {
            "text/plain": [
              "<matplotlib.legend.Legend at 0x7f45e5d5a370>"
            ]
          },
          "metadata": {},
          "execution_count": 130
        },
        {
          "output_type": "display_data",
          "data": {
            "text/plain": [
              "<Figure size 432x288 with 1 Axes>"
            ],
            "image/png": "[encoded data removed]"
          },
          "metadata": {
            "needs_background": "light"
          }
        }
      ]
    },
    {
      "cell_type": "code",
      "source": [
        "ds_test = ds_test_images_labels.map(lambda x,y : preprocess(x,y, target_height=150, target_width=150, mode='eval'))\n",
        "ds_test=ds_test.batch(BATCH_SIZE)"
      ],
      "metadata": {
        "id": "AWGq-TeuhaKu"
      },
      "execution_count": null,
      "outputs": []
    },
    {
      "cell_type": "code",
      "source": [
        "test_result=model_transfer_learn.evaluate(ds_test)\n",
        "print(\"The model accuracy on test is {} and the loss is {}\".format(test_result[1],test_result[0]))"
      ],
      "metadata": {
        "colab": {
          "base_uri": "https://localhost:8080/"
        },
        "id": "VL_WT0WfheFe",
        "outputId": "4a25013f-f45e-4140-a5cf-3f573b3475bb"
      },
      "execution_count": null,
      "outputs": [
        {
          "output_type": "stream",
          "name": "stdout",
          "text": [
            "157/157 [==============================] - 24s 153ms/step - loss: 0.3105 - accuracy: 0.9069\n",
            "The model accuracy on test is 0.9068999886512756 and the loss is 0.3105366826057434\n"
          ]
        }
      ]
    },
    {
      "cell_type": "code",
      "source": [
        "test_data=ds_test.unbatch().take(10)\n",
        "test_images_labels=next(iter(test_data.batch(10)))"
      ],
      "metadata": {
        "id": "TxeW6-T0hhAe"
      },
      "execution_count": null,
      "outputs": []
    },
    {
      "cell_type": "code",
      "source": [
        "preds_logits=model_transfer_learn.predict(test_images_labels[0])"
      ],
      "metadata": {
        "colab": {
          "base_uri": "https://localhost:8080/"
        },
        "id": "U-6EGYqOhlzI",
        "outputId": "d3f44962-ae95-49b2-ca87-66495cc87330"
      },
      "execution_count": null,
      "outputs": [
        {
          "output_type": "stream",
          "name": "stdout",
          "text": [
            "1/1 [==============================] - 0s 147ms/step\n"
          ]
        }
      ]
    }
  ],
  "metadata": {
    "colab": {
      "provenance": []
    },
    "gpuClass": "standard",
    "kernelspec": {
      "display_name": "Python 3",
      "name": "python3"
    },
    "language_info": {
      "name": "python"
    }
  },
  "nbformat": 4,
  "nbformat_minor": 0
}